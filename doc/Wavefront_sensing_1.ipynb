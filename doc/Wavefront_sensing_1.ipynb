{
 "cells": [
  {
   "cell_type": "markdown",
   "metadata": {},
   "source": [
    "# Wavefront sensing in hcipy\n",
    "\n",
    "In hcipy, wavefront sensing and reconstruction is achieved by a combination of two separate components - a wavefront sensor and a wavefront estimator. The wavefront sensor (WFS) consists of the optics and the wavefront estimator (WFE) performs the mathematical calculations required to reconstruct a wavefront from the optical system measurements. In this example we will use a Shack-Hartmann wavefront sensor and estimator. We will simulate phase-screens using the atmosphere library from hcipy.\n",
    "\n",
    "First, we import hcipy and supporting libraries."
   ]
  },
  {
   "cell_type": "code",
   "execution_count": null,
   "metadata": {},
   "outputs": [],
   "source": [
    "from hcipy import *\n",
    "import numpy as np\n",
    "import matplotlib.pyplot as plt\n",
    "\n",
    "%matplotlib inline"
   ]
  },
  {
   "cell_type": "markdown",
   "metadata": {},
   "source": [
    "We create an aperture and a pupil grid on which the phasescreens will be imposed, a focal plane where the image is formed, and a propagator to take the wavefront from the pupil plane to the focal plane."
   ]
  },
  {
   "cell_type": "code",
   "execution_count": null,
   "metadata": {},
   "outputs": [],
   "source": [
    "wavelength = 500e-9\n",
    "N = 256\n",
    "D = 0.01\n",
    "pupil_grid = make_pupil_grid(N, D)\n",
    "focal_grid = make_focal_grid(pupil_grid, 8, 20, wavelength)\n",
    "prop = FraunhoferPropagator(pupil_grid, focal_grid)\n",
    "aperture = circular_aperture(D)"
   ]
  },
  {
   "cell_type": "markdown",
   "metadata": {},
   "source": [
    "We will create two wavefronts to use in this example - a flat wavefront for reference, and a wavefront which we will sense and attempt to reconstruct with a SH-WFS."
   ]
  },
  {
   "cell_type": "code",
   "execution_count": null,
   "metadata": {},
   "outputs": [],
   "source": [
    "# Reference flat wavefront\n",
    "wf = Wavefront(aperture(pupil_grid),wavelength)\n",
    "wf.total_power = 1\n",
    "\n",
    "# Wavefront to be reconstructed\n",
    "np.random.seed(42)\n",
    "num_modes = 25\n",
    "zernike_modes = make_zernike_basis(num_modes, D, pupil_grid, 2, False)\n",
    "coeffs = np.random.uniform(low=-0.2, high=0.2, size=num_modes)\n",
    "wf_phase = np.dot(zernike_modes.transformation_matrix, coeffs)\n",
    "e_field = Field(np.exp(1j * wf_phase), pupil_grid)\n",
    "wf2sense = Wavefront(e_field * aperture(pupil_grid), wavelength)\n",
    "wf2sense.total_power=1\n",
    "\n",
    "imshow_field(wf2sense.phase, vmin=-np.pi, vmax=np.pi, cmap='RdBu'); plt.title(\"Random Phasescreen\"); plt.colorbar()\n",
    "\n",
    "initial_rms_error = np.sqrt(np.mean(np.square(wf2sense.phase)))\n",
    "print(initial_rms_error)"
   ]
  },
  {
   "cell_type": "markdown",
   "metadata": {},
   "source": [
    "## Shack Hartmann wavefront sensor\n",
    "\n",
    "A Shack Hartmann Wavefront Sensor (SH-WFS) consists of a microlens array and a detector. Local gradients in the wavefront result in shifts in the centroids of the images created by the corresponding individual lenslets. We can then use these centroids to estimate the local gradients, and use this information to reconstruct the complete wavefront.\n",
    "\n",
    "We start by creating the SH-WFS using a microlens array optic."
   ]
  },
  {
   "cell_type": "code",
   "execution_count": null,
   "metadata": {},
   "outputs": [],
   "source": [
    "F_mla = 40. / 0.3\n",
    "N_mla = 5 # number of subapertures across the lenslet array\n",
    "\n",
    "shwfs = SquareShackHartmannWavefrontSensorOptics(pupil_grid, F_mla, N_mla, D)\n",
    "shwfse = ShackHartmannWavefrontSensorEstimator(shwfs.mla_grid, shwfs.micro_lens_array.mla_index)"
   ]
  },
  {
   "cell_type": "markdown",
   "metadata": {},
   "source": [
    "Next, we need a deformable mirror with which to calibrate our wavefront sensor.\n",
    "\n",
    "Our deformable mirror in this example is modeled as a Zernike freeform surface where each mode is a Zernike polynomial."
   ]
  },
  {
   "cell_type": "code",
   "execution_count": null,
   "metadata": {},
   "outputs": [],
   "source": [
    "# DM slightly larger than the pupil plane for better edge performance\n",
    "actuator_grid = make_pupil_grid(10, D*1.1)\n",
    "sigma = D/10.\n",
    "gaussian_basis = make_gaussian_pokes(pupil_grid, actuator_grid, sigma)\n",
    "dm = DeformableMirror(gaussian_basis)\n",
    "num_modes = len(dm.influence_functions)\n",
    "dm.actuators = np.zeros(num_modes)"
   ]
  },
  {
   "cell_type": "markdown",
   "metadata": {},
   "source": [
    "The calibration process is as follows: we \"poke\" each mode of the DM with an equal positive and a negative amplitude successively, measure the shifts in the centroids of the microlens array images, and use these measurements to construct an interaction matrix."
   ]
  },
  {
   "cell_type": "code",
   "execution_count": null,
   "metadata": {},
   "outputs": [],
   "source": [
    "# First set the amplitudes of all DM modes to zero, and measure the reference position of the centroids\n",
    "img = shwfs.forward(wf).power\n",
    "ref = shwfse.estimate([img]).ravel()\n",
    "num_measurements = ref.shape[0]\n",
    "\n",
    "# Now push on each mode individually and record the centroid shifts\n",
    "amp = 1e-6\n",
    "Intmat = []\n",
    "\n",
    "for dm_mode in np.arange(num_modes):\n",
    "\n",
    "    print(\"Now calibrating actuator {}/{}\".format(dm_mode+1, num_modes))\n",
    "    \n",
    "    # Reset the list of slopes (average centroid shifts for each lenslet image)\n",
    "    total_slopes = np.zeros((num_measurements,))\n",
    "\n",
    "    # Push an actuator with a positive and negative amplitude\n",
    "    for push in np.array([-amp, amp]):\n",
    "\n",
    "        act_levels = np.zeros(num_modes)\n",
    "        act_levels[dm_mode] = push\n",
    "\n",
    "        dm.actuators = act_levels\n",
    "        dm_wf = dm.forward(wf)\n",
    "        sh_wf = shwfs.forward(dm_wf)\n",
    "        sh_img = sh_wf.power # Save the image created at the wavefront sensor - to see the effect of poking modes\n",
    "        #imsave_field(\"WFS_calibrate_\" + str(dm_mode+1).zfill(2), sh_img)\n",
    "        \n",
    "        # Use the estimator to calculate the shifts in the centroids\n",
    "        lenslet_centers = shwfse.estimate([sh_img])\n",
    "        total_slopes += (lenslet_centers.ravel()- ref)/(2*push)\n",
    "    Intmat.append(total_slopes)\n",
    "\n",
    "dm.actuators = np.zeros(num_modes)\n",
    "\n",
    "Intmat = ModeBasis(Intmat)"
   ]
  },
  {
   "cell_type": "markdown",
   "metadata": {},
   "source": [
    "To reconstruct a wavefront, we need the control matrix which is obtained by inverting the interaction matrix. We use the singular value decomposition functionality offered to us by hcipy to obtain a pseudo-inverse of this matrix, cut off the singular values that are below a threshold."
   ]
  },
  {
   "cell_type": "code",
   "execution_count": null,
   "metadata": {},
   "outputs": [],
   "source": [
    "control_mat = inverse_tikhonov(Intmat.transformation_matrix, rcond=1e-7)"
   ]
  },
  {
   "cell_type": "markdown",
   "metadata": {},
   "source": [
    "With this information, we can reconstruct a wavefront using the SH-WFS centroid measurements it produces, on the modal basis of the DM. Let's see how well we can reconstruct the atmospheric turbulence phase screen from earlier."
   ]
  },
  {
   "cell_type": "code",
   "execution_count": null,
   "metadata": {},
   "outputs": [],
   "source": [
    "# Reset the DM modes to zero amplitude\n",
    "dm.actuators = np.zeros(dm.actuators.shape)\n",
    "\n",
    "# Propagate the wavefront through the WFS optics\n",
    "dm_wf = dm.forward(wf2sense)\n",
    "sh_wf = shwfs.forward(dm_wf)\n",
    "sh_img = sh_wf.power\n",
    "\n",
    "# Estimate\n",
    "meas_vec = shwfse.estimate([sh_img])\n",
    "meas_vec = meas_vec.ravel()\n",
    "\n",
    "# Calculate the DM mode amplitudes to represent this wavefront\n",
    "dm.actuators = control_mat.dot(meas_vec - ref)\n",
    "dm.actuators -= dm.actuators.mean()\n",
    "\n",
    "# Set the DM modes to these amplitudes and plot the wavefront this imposes on a flat phase\n",
    "reconstructed_wf = dm.forward(wf)\n",
    "imshow_field(reconstructed_wf.phase, vmin=-np.pi, vmax=np.pi, cmap='RdBu'); plt.colorbar()"
   ]
  },
  {
   "cell_type": "markdown",
   "metadata": {},
   "source": [
    "Let's compare the original phasescreen with the reconstruction from the SH-WFS measurements."
   ]
  },
  {
   "cell_type": "code",
   "execution_count": null,
   "metadata": {},
   "outputs": [],
   "source": [
    "plt.clf()\n",
    "plt.subplot(1,2,1)\n",
    "imshow_field(wf2sense.phase, vmin=-np.pi, vmax=np.pi, cmap='RdBu')\n",
    "plt.title(\"Original phasescreen\")\n",
    "plt.colorbar()\n",
    "plt.subplot(1,2,2)\n",
    "imshow_field(reconstructed_wf.phase, vmin=-np.pi, vmax=np.pi, cmap='RdBu')\n",
    "plt.title(\"Reconstructed phasescreen\")\n",
    "plt.colorbar()"
   ]
  },
  {
   "cell_type": "markdown",
   "metadata": {},
   "source": [
    "And let's take a look at the residual phase, i.e. the difference between the actual phase and the reconstructed phase."
   ]
  },
  {
   "cell_type": "code",
   "execution_count": null,
   "metadata": {},
   "outputs": [],
   "source": [
    "imshow_field(wf2sense.phase - reconstructed_wf.phase, vmin=-np.pi, vmax=np.pi, cmap='RdBu')"
   ]
  },
  {
   "cell_type": "markdown",
   "metadata": {},
   "source": [
    "As can clearly be seen, the aberrations have markedly reduced, and the wavefront is much flatter than before! (Ignore the binary patterns outside the aperture - they are artefacts). If this procedure is run in closed loop, the wavefront can be flattened even further."
   ]
  },
  {
   "cell_type": "code",
   "execution_count": null,
   "metadata": {},
   "outputs": [],
   "source": [
    "loops = 3 # Experiment with this to find the best number of loops to flatten the wavefront\n",
    "gain = 0.1 # Experiment with this to find a reasonable value\n",
    "\n",
    "# Reset the DM modes to zero amplitude\n",
    "dm.actuators = np.zeros(dm.actuators.shape)\n",
    "\n",
    "for loop in np.arange(loops):\n",
    "    # Propagate the wavefront through the WFS optics\n",
    "    dm_wf = dm.forward(wf2sense)\n",
    "    sh_wf = shwfs.forward(dm_wf)\n",
    "    sh_img = sh_wf.power\n",
    "\n",
    "    # Estimate\n",
    "    meas_vec = shwfse.estimate([sh_img])\n",
    "    meas_vec = meas_vec.ravel()\n",
    "\n",
    "    # Calculate the DM mode amplitudes to represent this change in wavefront\n",
    "    change_in_actuators = control_mat.dot(meas_vec - ref)\n",
    "    change_in_actuators -= change_in_actuators.mean() # note that we do this to remove piston errors that creep in\n",
    "    dm.actuators -= gain * change_in_actuators\n",
    "    \n",
    "flattened_wf = dm.forward(wf2sense)\n",
    "wf_rms_error = np.sqrt(np.mean(np.square(flattened_wf.phase)))\n",
    "imshow_field(flattened_wf.phase, vmin=-np.pi, vmax=np.pi, cmap='RdBu')\n",
    "plt.title(\"Flattened wavefront after {0} loops, with RMS WF error of {1} radians\".format(loops, wf_rms_error))\n",
    "plt.colorbar()"
   ]
  },
  {
   "cell_type": "code",
   "execution_count": null,
   "metadata": {},
   "outputs": [],
   "source": []
  }
 ],
 "metadata": {
  "kernelspec": {
   "display_name": "Python [conda env:hcipy]",
   "language": "python",
   "name": "conda-env-hcipy-py"
  },
  "language_info": {
   "codemirror_mode": {
    "name": "ipython",
    "version": 3
   },
   "file_extension": ".py",
   "mimetype": "text/x-python",
   "name": "python",
   "nbconvert_exporter": "python",
   "pygments_lexer": "ipython3",
   "version": "3.6.8"
  }
 },
 "nbformat": 4,
 "nbformat_minor": 2
}
