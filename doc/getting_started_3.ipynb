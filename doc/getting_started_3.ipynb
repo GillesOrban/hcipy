{
 "cells": [
  {
   "cell_type": "markdown",
   "metadata": {},
   "source": [
    "# III - Atmosphere and adaptive optics\n",
    "\n",
    "First let's import HCIPy, and a few supporting libraries:"
   ]
  },
  {
   "cell_type": "code",
   "execution_count": null,
   "metadata": {},
   "outputs": [],
   "source": [
    "from hcipy import *\n",
    "import numpy as np\n",
    "import matplotlib.pyplot as plt\n",
    "\n",
    "%matplotlib inline"
   ]
  },
  {
   "cell_type": "markdown",
   "metadata": {},
   "source": [
    "HCIPy implements a multi-layer atmospheric model. Each layer derives from `AtmosphericLayer`. This allows for multiple implementations of phase-screen calculation. One of the implemented methods is an infinite phase-screen extrusion method by Assemat et al. 2006. We first do some setup work."
   ]
  },
  {
   "cell_type": "code",
   "execution_count": null,
   "metadata": {},
   "outputs": [],
   "source": [
    "D_tel = 8.2 # meter\n",
    "wavelength = 1e-6 # meter\n",
    "\n",
    "pupil_grid = make_pupil_grid(512, D_tel)\n",
    "focal_grid = make_focal_grid(pupil_grid, 8, 16, wavelength=wavelength)\n",
    "prop = FraunhoferPropagator(pupil_grid, focal_grid)\n",
    "\n",
    "aperture = circular_aperture(D_tel)(pupil_grid)"
   ]
  },
  {
   "cell_type": "markdown",
   "metadata": {},
   "source": [
    "We can now construct the layer."
   ]
  },
  {
   "cell_type": "code",
   "execution_count": null,
   "metadata": {},
   "outputs": [],
   "source": [
    "fried_parameter = 0.2 # meter\n",
    "outer_scale = 20 # meter\n",
    "velocity = 10 # meter/sec\n",
    "\n",
    "Cn_squared = Cn_squared_from_fried_parameter(fried_parameter, 500e-9)\n",
    "layer = InfiniteAtmosphericLayer(pupil_grid, Cn_squared, outer_scale, velocity)"
   ]
  },
  {
   "cell_type": "markdown",
   "metadata": {},
   "source": [
    "For each layer, its strength ($C_n^2$ value), outer scale ($L_0$) and velocity can be changed. The InfiniteAtmosphericLayer class even supports on-the-fly changes to these values, allowing for non-stationary turbulence simulations. We can retrieve the phase at a certain wavelength as:"
   ]
  },
  {
   "cell_type": "code",
   "execution_count": null,
   "metadata": {},
   "outputs": [],
   "source": [
    "imshow_field(layer.phase_for(wavelength), cmap='RdBu')\n",
    "plt.colorbar()\n",
    "plt.show()"
   ]
  },
  {
   "cell_type": "markdown",
   "metadata": {},
   "source": [
    "And we can propagate light through the atmospheric layer as usual."
   ]
  },
  {
   "cell_type": "code",
   "execution_count": null,
   "metadata": {},
   "outputs": [],
   "source": [
    "wf = Wavefront(aperture, wavelength)\n",
    "img = prop(layer(wf))\n",
    "\n",
    "imshow_field(np.log10(img.intensity / img.intensity.max()), vmin=-3)\n",
    "plt.colorbar()\n",
    "plt.show()"
   ]
  },
  {
   "cell_type": "code",
   "execution_count": null,
   "metadata": {},
   "outputs": [],
   "source": [
    "layer.t = 0.1 # sec\n",
    "\n",
    "img = prop(layer(wf))\n",
    "\n",
    "imshow_field(np.log10(img.intensity / img.intensity.max()), vmin=-3)\n",
    "plt.colorbar()\n",
    "plt.show()"
   ]
  },
  {
   "cell_type": "markdown",
   "metadata": {},
   "source": [
    "These single layers can be combined into a multi-layer atmospheric model. Here we a standard atmospheric model, given by Guyon (2005) \"Limits of Adaptive Optics for high contrast imaging\". Any layer structure can be implemented. The altitude of each layer is indicated by the height parameter of the AtmosphericLayer objects themselves.\n",
    "\n",
    "As we want to do Fresnel diffraction and avoid edge effects, we have to redefine our grids to be slightly oversized. Afterwards, we make the atmospheric layers, and add them to a multi-layer atmospheric model."
   ]
  },
  {
   "cell_type": "code",
   "execution_count": null,
   "metadata": {},
   "outputs": [],
   "source": [
    "pupil_grid = make_pupil_grid(256, 1.5)\n",
    "focal_grid = make_focal_grid(pupil_grid, 2, 64)\n",
    "prop = FraunhoferPropagator(pupil_grid, focal_grid)\n",
    "\n",
    "pup = circular_aperture(1)(pupil_grid)\n",
    "\n",
    "# Make multi-layer atmosphere\n",
    "layers = make_standard_atmospheric_layers(pupil_grid, outer_scale)\n",
    "\n",
    "atmos = MultiLayerAtmosphere(layers, scintilation=True)"
   ]
  },
  {
   "cell_type": "markdown",
   "metadata": {},
   "source": [
    "Now we can set the right seeing parameter and propagate through it to show the scintillation. To avoid edge effects during the Fresnel propagation, we use a super-Gaussian as an amplitude mask. This makes the edges of the field more continuous and therefore lessens edge effects."
   ]
  },
  {
   "cell_type": "code",
   "execution_count": null,
   "metadata": {},
   "outputs": [],
   "source": [
    "# Set the seeing parameters and reset\n",
    "atmos.Cn_squared = Cn_squared_from_fried_parameter(0.1, 550e-9)\n",
    "atmos.reset()\n",
    "\n",
    "# Use super-Gaussian to avoid edge effects\n",
    "p = np.exp(-(pupil_grid.as_('polar').r/0.68)**20)\n",
    "wf = atmos(Wavefront(Field(p, pupil_grid), 2e-6))\n",
    "\n",
    "# Show scintillation field\n",
    "imshow_field(wf.intensity * pup, cmap='gray')\n",
    "plt.show()"
   ]
  },
  {
   "cell_type": "code",
   "execution_count": null,
   "metadata": {},
   "outputs": [],
   "source": []
  }
 ],
 "metadata": {
  "kernelspec": {
   "display_name": "Python 3",
   "language": "python",
   "name": "python3"
  },
  "language_info": {
   "codemirror_mode": {
    "name": "ipython",
    "version": 3
   },
   "file_extension": ".py",
   "mimetype": "text/x-python",
   "name": "python",
   "nbconvert_exporter": "python",
   "pygments_lexer": "ipython3",
   "version": "3.6.4"
  }
 },
 "nbformat": 4,
 "nbformat_minor": 2
}
