{
 "cells": [
  {
   "cell_type": "markdown",
   "metadata": {},
   "source": [
    "# Propagation of polarized light through a vector-Apodizing Phase Plate \n",
    "\n",
    "This tutorial introduces the implementation of polarized light in HCIpy and the correct polarization implementation of a vector apodizing phase plate."
   ]
  },
  {
   "cell_type": "code",
   "execution_count": null,
   "metadata": {},
   "outputs": [],
   "source": [
    "import numpy as np\n",
    "import matplotlib.pyplot as plt\n",
    "%matplotlib inline\n",
    "\n",
    "#import matplotlib as mpl\n",
    "#mpl.rc('image', interpolation='nearest', origin='lower')\n",
    "#mpl.rcParams.update({'font.size': 32})\n",
    "#plt.rc('figure', figsize=(10.0, 10.0))\n",
    "from matplotlib import animation, rc\n",
    "from IPython.display import HTML\n",
    "\n",
    "\n",
    "from hcipy import *"
   ]
  },
  {
   "cell_type": "code",
   "execution_count": null,
   "metadata": {},
   "outputs": [],
   "source": [
    "pupil_grid = make_pupil_grid(512)\n",
    "\n",
    "vAPP_phase = Field(read_fits('vAPP_phase_tutorial.fits.gz').ravel(),pupil_grid)\n",
    "telescope_pupil = Field(read_fits('vAPP_amplitude_tutorial.fits.gz').ravel(),pupil_grid)\n",
    "\n",
    "fast_axis_orientation = vAPP_phase/2\n",
    "\n",
    "\n",
    "N=16\n",
    "plt.figure(figsize = (10,10))\n",
    "plt.subplot(1,2,1)\n",
    "imshow_field(fast_axis_orientation,mask = telescope_pupil,cmap = 'RdBu')\n",
    "quiveropts = dict(color='black', headlength=0, pivot='middle', scale=30, units='xy', width=.003, headwidth=0)\n",
    "X = pupil_grid.x.reshape(pupil_grid.shape)[::N,::N]\n",
    "\n",
    "Y = pupil_grid.y.reshape(pupil_grid.shape)[::N,::N]\n",
    "\n",
    "U = np.cos(fast_axis_orientation.shaped[::N,::N])\n",
    "\n",
    "V = np.sin(fast_axis_orientation.shaped[::N,::N])\n",
    "plt.subplot(1,2,2)\n",
    "imshow_field(telescope_pupil,cmap = 'gray')\n",
    "plt.quiver(X,Y,U,V,**quiveropts )\n",
    "plt.gca().set_aspect('equal')\n",
    "plt.show()\n",
    "\n",
    "\n",
    "\n",
    "\n"
   ]
  },
  {
   "cell_type": "code",
   "execution_count": null,
   "metadata": {},
   "outputs": [],
   "source": [
    "fast_axis_orientation = (vAPP_phase - pupil_grid.y*20*2*np.pi)/2 -np.pi/2\n",
    "fast_axis_orientation = fast_axis_orientation%(np.pi)#-np.pi/2\n",
    "N=16\n",
    "plt.figure(figsize = (10,10))\n",
    "plt.subplot(1,2,1)\n",
    "imshow_field(fast_axis_orientation,mask = telescope_pupil,cmap = 'RdBu')\n",
    "quiveropts = dict(color='black', headlength=0, pivot='middle', scale=30, units='xy', width=.003, headwidth=0)\n",
    "X = pupil_grid.x.reshape(pupil_grid.shape)[::N,::N]\n",
    "\n",
    "Y = pupil_grid.y.reshape(pupil_grid.shape)[::N,::N]\n",
    "\n",
    "U = np.cos(fast_axis_orientation.shaped[::N,::N])\n",
    "\n",
    "V = np.sin(fast_axis_orientation.shaped[::N,::N])\n",
    "plt.subplot(1,2,2)\n",
    "imshow_field(telescope_pupil,cmap = 'gray')\n",
    "plt.quiver(X,Y,U,V,**quiveropts )\n",
    "plt.gca().set_aspect('equal')\n",
    "plt.show()"
   ]
  },
  {
   "cell_type": "code",
   "execution_count": null,
   "metadata": {},
   "outputs": [],
   "source": [
    "fast_axis_orientation = vAPP_phase/2\n",
    "phase_retardation = np.pi\n",
    "\n",
    "circularity = 0\n",
    "\n",
    "vAPP_pol = PhaseRetarder(phase_retardation,fast_axis_orientation,circularity)\n",
    "\n",
    "wavefront = Wavefront(telescope_pupil,1 ,stokes_vector=(1,0,0,-1))\n",
    "\n",
    "focal_grid = make_focal_grid(8, 40)\n",
    "\n",
    "prop = FraunhoferPropagator(pupil_grid, focal_grid)\n",
    "\n",
    "\n",
    "wavefront_out = vAPP_pol.forward(wavefront)\n",
    "\n",
    "\n",
    "vAPP_PSF = (prop(wavefront_out).intensity)\n",
    "\n",
    "imshow_field(np.log10(vAPP_PSF/vAPP_PSF.max()),vmin = -5)\n",
    "plt.show()"
   ]
  },
  {
   "cell_type": "code",
   "execution_count": null,
   "metadata": {},
   "outputs": [],
   "source": [
    "wavefront = Wavefront(telescope_pupil,1 ,stokes_vector=(1,0,0,1))\n",
    "\n",
    "wavefront_out = vAPP_pol.forward(wavefront)\n",
    "\n",
    "\n",
    "vAPP_PSF = (prop(wavefront_out).I)#.sum(axis = 0)\n",
    "\n",
    "imshow_field(np.log10(vAPP_PSF/vAPP_PSF.max()),vmin = -5)\n",
    "plt.show()\n",
    "\n",
    "\n"
   ]
  },
  {
   "cell_type": "code",
   "execution_count": null,
   "metadata": {},
   "outputs": [],
   "source": [
    "\n",
    "wavefront = Wavefront(telescope_pupil,1 ,stokes_vector=(1,0,0,0))\n",
    "\n",
    "wavefront_out = vAPP_pol.forward(wavefront)\n",
    "\n",
    "\n",
    "vAPP_PSF = (prop(wavefront_out).I)#.sum(axis = 0)\n",
    "\n",
    "imshow_field(np.log10(vAPP_PSF/vAPP_PSF.max()),vmin = -5)\n",
    "plt.show()\n",
    "\n"
   ]
  },
  {
   "cell_type": "code",
   "execution_count": null,
   "metadata": {},
   "outputs": [],
   "source": []
  },
  {
   "cell_type": "code",
   "execution_count": null,
   "metadata": {},
   "outputs": [],
   "source": [
    "retardation = np.linspace(0,np.pi,10,endpoint=True)\n",
    "wavefront = Wavefront(telescope_pupil,1 ,stokes_vector=(1,0,0,0))\n",
    "\n",
    "fig = plt.figure(figsize= (8,8))\n",
    "im = imshow_field(focal_grid.x,focal_grid, vmin=-5, vmax=0)\n",
    "title = plt.title('',fontsize = 'xx-large')\n",
    "plt.close()\n",
    "\n",
    "\n",
    "\n",
    "def animate(i):\n",
    "    \n",
    "    vAPP_pol = PhaseRetarder(retardation[i],fast_axis_orientation,circularity)\n",
    "\n",
    "    wavefront_out = vAPP_pol.forward(wavefront)\n",
    "\n",
    "    vAPP_PSF = Field((prop(wavefront_out).I),focal_grid)#.sum(axis = 0)\n",
    "    vAPP_PSF/= vAPP_PSF.max()\n",
    "    x,y = focal_grid.coords.separated_coords\n",
    "    im.set_data(x, y, np.log10(vAPP_PSF.shaped))# imshow_field(np.log10(vAPP_PSF/vAPP_PSF.max()),vmin = -5)\n",
    "    title.set_text('Retardance = {0} degrees'.format(round(np.degrees(retardation[i]),0)))\n",
    "    return (im,title)\n",
    "\n",
    "\n",
    "ani = animation.FuncAnimation(fig, animate, range(10), blit=True)\n",
    "HTML(ani.to_jshtml(default_mode = 'reflect'))\n",
    "\n",
    "\n",
    "\n"
   ]
  },
  {
   "cell_type": "code",
   "execution_count": null,
   "metadata": {},
   "outputs": [],
   "source": []
  },
  {
   "cell_type": "code",
   "execution_count": null,
   "metadata": {},
   "outputs": [],
   "source": []
  }
 ],
 "metadata": {
  "kernelspec": {
   "display_name": "'Python Interactive'",
   "language": "python",
   "name": "be95f11e-c212-4e3c-addc-b79b505c8a34"
  },
  "language_info": {
   "codemirror_mode": {
    "name": "ipython",
    "version": 3
   },
   "file_extension": ".py",
   "mimetype": "text/x-python",
   "name": "python",
   "nbconvert_exporter": "python",
   "pygments_lexer": "ipython3",
   "version": "3.6.5"
  }
 },
 "nbformat": 4,
 "nbformat_minor": 2
}
