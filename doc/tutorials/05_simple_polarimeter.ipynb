{
 "cells": [
  {
   "cell_type": "markdown",
   "metadata": {},
   "source": [
    "# Running a simple polarimeter\n",
    "In this tutorial we will simulate a simple polarimeter. We will implement a polarimeter that can only measure linear polarization states. It will consist of a rotating half-wave plate (the polarization modulator) and a linear polarizer (the analyzer). This polarimeter will be a single-beam system, which means that it can only measure one polarization state at the time. Therefore, it will use temporal polarization modulation to measure the other states as well.\n",
    "\n",
    "For reference on polarimetry, please read...\n",
    "\n",
    "We start by importing the relevant python modules. "
   ]
  },
  {
   "cell_type": "code",
   "execution_count": 1,
   "metadata": {},
   "outputs": [],
   "source": [
    "import numpy as np\n",
    "import matplotlib.pyplot as plt \n",
    "\n",
    "from hcipy import * \n",
    "\n",
    "#%matplotlib inline"
   ]
  },
  {
   "cell_type": "markdown",
   "metadata": {},
   "source": [
    "We will do our measurements with a 4 meter diameter telescope at a wavelength of 500 nanometer. This will set the spatial resolution of the system.  "
   ]
  },
  {
   "cell_type": "code",
   "execution_count": 2,
   "metadata": {},
   "outputs": [],
   "source": [
    "# parameters telescope\n",
    "telescope_diameter = 4 # meter \n",
    "wavelength = 500E-9 #m\n",
    "\n",
    "# the spatial resolution of the telescope\n",
    "spatial_resolution_telescope = wavelength / telescope_diameter\n",
    "\n",
    "# parameters star\n",
    "zero_magnitude_flux = 3.9E10\n",
    "stellar_magnitude = 8"
   ]
  },
  {
   "cell_type": "markdown",
   "metadata": {},
   "source": [
    "Setting the pupil- and focal-plane grids. We also define the propagator."
   ]
  },
  {
   "cell_type": "code",
   "execution_count": 3,
   "metadata": {},
   "outputs": [],
   "source": [
    "# setting the grids\n",
    "pupil_grid = make_pupil_grid(128, telescope_diameter)\n",
    "focal_grid = make_focal_grid(q=6, num_airy=10, spatial_resolution=spatial_resolution_telescope)\n",
    "\n",
    "# the propagator between the pupil- and focal-grid. \n",
    "propagator = FraunhoferPropagator(pupil_grid, focal_grid) \n",
    "\n",
    "# setting the aperture of the telescope \n",
    "aperture = circular_aperture(telescope_diameter)(pupil_grid)"
   ]
  },
  {
   "cell_type": "markdown",
   "metadata": {},
   "source": [
    "Defining the states of the polarization modulator and the linear polarizer. "
   ]
  },
  {
   "cell_type": "code",
   "execution_count": 4,
   "metadata": {},
   "outputs": [],
   "source": [
    "# states of the half-wave plate. \n",
    "HWP_state_0 = HalfWavePlate(0)\n",
    "HWP_state_1 = HalfWavePlate(np.radians(45))\n",
    "HWP_state_2 = HalfWavePlate(np.radians(22.5))\n",
    "HWP_state_3 = HalfWavePlate(np.radians(67.5))\n",
    "\n",
    "# the linear polarizer \n",
    "polarizer = LinearPolarizer(0)"
   ]
  },
  {
   "cell_type": "code",
   "execution_count": 5,
   "metadata": {},
   "outputs": [],
   "source": [
    "detector = NoisyDetector(focal_grid, dark_current_rate=0, read_noise=0, flat_field=0, include_photon_noise=True)"
   ]
  },
  {
   "cell_type": "code",
   "execution_count": 6,
   "metadata": {
    "scrolled": true
   },
   "outputs": [
    {
     "name": "stdout",
     "output_type": "stream",
     "text": [
      "Total photon flux 2.46073e+07\n"
     ]
    }
   ],
   "source": [
    "pupil_wavefront = Wavefront(aperture, wavelength, stokes_vector=np.array([1,0.,1,0]))\n",
    "\n",
    "pupil_wavefront.total_power = zero_magnitude_flux * 10**(-stellar_magnitude/2.5)\n",
    "print(\"Total photon flux {:g}\".format(pupil_wavefront.total_power))"
   ]
  },
  {
   "cell_type": "markdown",
   "metadata": {},
   "source": [
    "We can check the polarization state of the wavefront simply by: "
   ]
  },
  {
   "cell_type": "code",
   "execution_count": 7,
   "metadata": {},
   "outputs": [
    {
     "data": {
      "image/png": "[encoded data removed]",
      "text/plain": [
       "<Figure size 1152x576 with 4 Axes>"
      ]
     },
     "metadata": {
      "needs_background": "light"
     },
     "output_type": "display_data"
    }
   ],
   "source": [
    "stokes_parameters = [pupil_wavefront.I, pupil_wavefront.Q, pupil_wavefront.U, pupil_wavefront.V]\n",
    "titles = ['I', 'Q', 'U', 'V']\n",
    "\n",
    "k=1\n",
    "plt.figure(figsize=(16, 8))\n",
    "\n",
    "for stokes_parameter, title in zip(stokes_parameters, titles):\n",
    "    \n",
    "    max_val = np.max(np.abs(stokes_parameter))\n",
    "    \n",
    "    if max_val == 0:\n",
    "        max_val = 1\n",
    "\n",
    "    plt.subplot(1,4,k)\n",
    "\n",
    "    imshow_field(stokes_parameter, cmap='bwr', vmin=-max_val, vmax=max_val)\n",
    "    \n",
    "    plt.title('Stokes parameter ' + title)\n",
    "    k += 1"
   ]
  },
  {
   "cell_type": "markdown",
   "metadata": {},
   "source": [
    "Setting up the loop"
   ]
  },
  {
   "cell_type": "code",
   "execution_count": 8,
   "metadata": {},
   "outputs": [
    {
     "ename": "ValueError",
     "evalue": "lam < 0",
     "output_type": "error",
     "traceback": [
      "\u001b[0;31m---------------------------------------------------------------------------\u001b[0m",
      "\u001b[0;31mValueError\u001b[0m                                Traceback (most recent call last)",
      "\u001b[0;32m<ipython-input-8-176b6d1125b2>\u001b[0m in \u001b[0;36m<module>\u001b[0;34m\u001b[0m\n\u001b[1;32m     41\u001b[0m \u001b[0;34m\u001b[0m\u001b[0m\n\u001b[1;32m     42\u001b[0m     \u001b[0;31m# reading out the detector in the correct element of the measurement vector\u001b[0m\u001b[0;34m\u001b[0m\u001b[0;34m\u001b[0m\u001b[0m\n\u001b[0;32m---> 43\u001b[0;31m     \u001b[0mmeasurement_vector\u001b[0m\u001b[0;34m[\u001b[0m\u001b[0mk\u001b[0m\u001b[0;34m,\u001b[0m\u001b[0;34m:\u001b[0m\u001b[0;34m]\u001b[0m \u001b[0;34m+=\u001b[0m \u001b[0mdetector\u001b[0m\u001b[0;34m.\u001b[0m\u001b[0mread_out\u001b[0m\u001b[0;34m(\u001b[0m\u001b[0;34m)\u001b[0m\u001b[0;34m\u001b[0m\u001b[0m\n\u001b[0m\u001b[1;32m     44\u001b[0m \u001b[0;34m\u001b[0m\u001b[0m\n\u001b[1;32m     45\u001b[0m     \u001b[0;31m# Moving to the next modulator state\u001b[0m\u001b[0;34m\u001b[0m\u001b[0;34m\u001b[0m\u001b[0m\n",
      "\u001b[0;32m~/Documents/Code/hcipy/hcipy/optics/detector.py\u001b[0m in \u001b[0;36mread_out\u001b[0;34m(self)\u001b[0m\n\u001b[1;32m    189\u001b[0m                 \u001b[0;31m# Adding photon noise.\u001b[0m\u001b[0;34m\u001b[0m\u001b[0;34m\u001b[0m\u001b[0m\n\u001b[1;32m    190\u001b[0m                 \u001b[0;32mif\u001b[0m \u001b[0mself\u001b[0m\u001b[0;34m.\u001b[0m\u001b[0minclude_photon_noise\u001b[0m\u001b[0;34m:\u001b[0m\u001b[0;34m\u001b[0m\u001b[0m\n\u001b[0;32m--> 191\u001b[0;31m                         \u001b[0moutput_field\u001b[0m \u001b[0;34m=\u001b[0m \u001b[0mlarge_poisson\u001b[0m\u001b[0;34m(\u001b[0m\u001b[0moutput_field\u001b[0m\u001b[0;34m,\u001b[0m \u001b[0mthresh\u001b[0m\u001b[0;34m=\u001b[0m\u001b[0;36m1e6\u001b[0m\u001b[0;34m)\u001b[0m\u001b[0;34m\u001b[0m\u001b[0m\n\u001b[0m\u001b[1;32m    192\u001b[0m \u001b[0;34m\u001b[0m\u001b[0m\n\u001b[1;32m    193\u001b[0m                 \u001b[0;31m# Adding flat field errors.\u001b[0m\u001b[0;34m\u001b[0m\u001b[0;34m\u001b[0m\u001b[0m\n",
      "\u001b[0;32m~/Documents/Code/hcipy/hcipy/statistics/util.py\u001b[0m in \u001b[0;36mlarge_poisson\u001b[0;34m(lam, thresh)\u001b[0m\n\u001b[1;32m     27\u001b[0m         \u001b[0mn\u001b[0m \u001b[0;34m=\u001b[0m \u001b[0mnp\u001b[0m\u001b[0;34m.\u001b[0m\u001b[0mzeros\u001b[0m\u001b[0;34m(\u001b[0m\u001b[0mlam\u001b[0m\u001b[0;34m.\u001b[0m\u001b[0mshape\u001b[0m\u001b[0;34m)\u001b[0m\u001b[0;34m\u001b[0m\u001b[0m\n\u001b[1;32m     28\u001b[0m         \u001b[0mn\u001b[0m\u001b[0;34m[\u001b[0m\u001b[0mlarge\u001b[0m\u001b[0;34m]\u001b[0m \u001b[0;34m=\u001b[0m \u001b[0mnp\u001b[0m\u001b[0;34m.\u001b[0m\u001b[0mround\u001b[0m\u001b[0;34m(\u001b[0m\u001b[0mlam\u001b[0m\u001b[0;34m[\u001b[0m\u001b[0mlarge\u001b[0m\u001b[0;34m]\u001b[0m \u001b[0;34m+\u001b[0m \u001b[0mnp\u001b[0m\u001b[0;34m.\u001b[0m\u001b[0mrandom\u001b[0m\u001b[0;34m.\u001b[0m\u001b[0mnormal\u001b[0m\u001b[0;34m(\u001b[0m\u001b[0msize\u001b[0m\u001b[0;34m=\u001b[0m\u001b[0mnp\u001b[0m\u001b[0;34m.\u001b[0m\u001b[0msum\u001b[0m\u001b[0;34m(\u001b[0m\u001b[0mlarge\u001b[0m\u001b[0;34m)\u001b[0m\u001b[0;34m)\u001b[0m \u001b[0;34m*\u001b[0m \u001b[0mnp\u001b[0m\u001b[0;34m.\u001b[0m\u001b[0msqrt\u001b[0m\u001b[0;34m(\u001b[0m\u001b[0mlam\u001b[0m\u001b[0;34m[\u001b[0m\u001b[0mlarge\u001b[0m\u001b[0;34m]\u001b[0m\u001b[0;34m)\u001b[0m\u001b[0;34m)\u001b[0m\u001b[0;34m\u001b[0m\u001b[0m\n\u001b[0;32m---> 29\u001b[0;31m         \u001b[0mn\u001b[0m\u001b[0;34m[\u001b[0m\u001b[0msmall\u001b[0m\u001b[0;34m]\u001b[0m \u001b[0;34m=\u001b[0m \u001b[0mnp\u001b[0m\u001b[0;34m.\u001b[0m\u001b[0mrandom\u001b[0m\u001b[0;34m.\u001b[0m\u001b[0mpoisson\u001b[0m\u001b[0;34m(\u001b[0m\u001b[0mlam\u001b[0m\u001b[0;34m[\u001b[0m\u001b[0msmall\u001b[0m\u001b[0;34m]\u001b[0m\u001b[0;34m,\u001b[0m \u001b[0msize\u001b[0m\u001b[0;34m=\u001b[0m\u001b[0mnp\u001b[0m\u001b[0;34m.\u001b[0m\u001b[0msum\u001b[0m\u001b[0;34m(\u001b[0m\u001b[0msmall\u001b[0m\u001b[0;34m)\u001b[0m\u001b[0;34m)\u001b[0m\u001b[0;34m\u001b[0m\u001b[0m\n\u001b[0m\u001b[1;32m     30\u001b[0m \u001b[0;34m\u001b[0m\u001b[0m\n\u001b[1;32m     31\u001b[0m         \u001b[0;32mif\u001b[0m \u001b[0mhasattr\u001b[0m\u001b[0;34m(\u001b[0m\u001b[0mlam\u001b[0m\u001b[0;34m,\u001b[0m \u001b[0;34m'grid'\u001b[0m\u001b[0;34m)\u001b[0m\u001b[0;34m:\u001b[0m\u001b[0;34m\u001b[0m\u001b[0m\n",
      "\u001b[0;32mmtrand.pyx\u001b[0m in \u001b[0;36mmtrand.RandomState.poisson\u001b[0;34m()\u001b[0m\n",
      "\u001b[0;31mValueError\u001b[0m: lam < 0"
     ]
    }
   ],
   "source": [
    "\n",
    "# total duration of the measurement\n",
    "loop_duration = 8 # seconds\n",
    "\n",
    "# number of times we go through the entire modulation loop\n",
    "N_measurement_sets = 4 # evaluations \n",
    "\n",
    "# integration time per modulation state \n",
    "delta_t = loop_duration / (N_measurement_sets * 4) \n",
    "\n",
    "# counter for the state of the modulation loop \n",
    "k = 0 \n",
    "\n",
    "\n",
    "# The arrays to where we add the measurements \n",
    "measurement_vector = Field(np.zeros((4, focal_grid.size)), focal_grid)\n",
    "\n",
    "for t in np.linspace(0, loop_duration, N_measurement_sets * 4):\n",
    "    \n",
    "    # selecting the modulator state\n",
    "    if k == 0:\n",
    "        HWP_modulator_state = HWP_state_0\n",
    "    elif k == 1:\n",
    "        HWP_modulator_state = HWP_state_1\n",
    "    elif k == 2:\n",
    "        HWP_modulator_state = HWP_state_2\n",
    "    elif k == 3:\n",
    "        HWP_modulator_state = HWP_state_3\n",
    "        \n",
    "    # we propagate the wavefront through the half-wave plate \n",
    "    pupil_wavefront_2 = HWP_modulator_state.forward(pupil_wavefront)\n",
    "    \n",
    "    # we propagate the wavefront through the linear polarizer \n",
    "    pupil_wavefront_3 = polarizer.forward(pupil_wavefront_2)\n",
    "    \n",
    "    # propagating the wavefront to the focal-plane\n",
    "    focal_wavefront = propagator(pupil_wavefront_3)\n",
    "    \n",
    "    # integrating the detector\n",
    "    detector.integrate(focal_wavefront, dt=delta_t)\n",
    "        \n",
    "    # reading out the detector in the correct element of the measurement vector\n",
    "    measurement_vector[k,:] += detector.read_out()\n",
    "    \n",
    "    # Moving to the next modulator state \n",
    "    k += 1 \n",
    "\n",
    "    # resetting the modulator \n",
    "    if k > 3:\n",
    "        k = 0"
   ]
  },
  {
   "cell_type": "markdown",
   "metadata": {},
   "source": [
    "Lets plot our four measurements."
   ]
  },
  {
   "cell_type": "code",
   "execution_count": null,
   "metadata": {},
   "outputs": [],
   "source": [
    "plt.figure(figsize=(16, 8))\n",
    "\n",
    "for i in np.arange(4):\n",
    "    plt.subplot(1,4,i+1)\n",
    "    imshow_field(measurement_vector[i,:])\n",
    "    \n",
    "    plt.title('measurement ' + str(i))"
   ]
  },
  {
   "cell_type": "markdown",
   "metadata": {},
   "source": [
    "We now have our intensity measurement. These need to be converted into polarization states.We do this by using a demodulation matrix, this matrix combines the measurements in such a way such that the original polarization state is retrieved. "
   ]
  },
  {
   "cell_type": "code",
   "execution_count": null,
   "metadata": {},
   "outputs": [],
   "source": [
    "# defining the modulati\n",
    "demodulation_matrix = np.zeros((4,4))\n",
    "\n",
    "# demodulation for I\n",
    "demodulation_matrix[0,:] = 0.25\n",
    "\n",
    "# demodulation for Q\n",
    "demodulation_matrix[1,0] = 0.5\n",
    "demodulation_matrix[1,1] = -0.5\n",
    "\n",
    "# demodulation for U\n",
    "demodulation_matrix[2,2] = 0.5\n",
    "demodulation_matrix[2,3] = -0.5\n",
    "\n",
    "print('demodulation matrix = \\n', demodulation_matrix)"
   ]
  },
  {
   "cell_type": "code",
   "execution_count": null,
   "metadata": {},
   "outputs": [],
   "source": [
    "stokes_out = field_dot(demodulation_matrix, measurement_vector)\n",
    "\n",
    "stokes_out /= np.max(stokes_out[0,:])\n",
    "\n",
    "titles = ['I', 'Q', 'U', 'V']\n",
    "\n",
    "plt.figure(figsize=(16, 8))\n",
    "\n",
    "for i in np.arange(4):\n",
    "    \n",
    "    max_val = np.max(np.abs(stokes_out[i,:]))\n",
    "        \n",
    "    if max_val < 1E-2:\n",
    "        max_val = 1\n",
    "\n",
    "    plt.subplot(1,4,i+1)\n",
    "\n",
    "    if i == 0:\n",
    "        imshow_field(np.log10(np.abs(stokes_out[i,:])), vmin=-5, vmax=0)\n",
    "    else:\n",
    "        imshow_field(stokes_out[i,:], cmap='bwr', vmin=-max_val, vmax=max_val)\n",
    "    \n",
    "    plt.title('Stokes parameter ' + titles[i])\n",
    "\n",
    "plt.show()\n",
    "    \n",
    "    "
   ]
  }
 ],
 "metadata": {
  "kernelspec": {
   "display_name": "Python 3",
   "language": "python",
   "name": "python3"
  },
  "language_info": {
   "codemirror_mode": {
    "name": "ipython",
    "version": 3
   },
   "file_extension": ".py",
   "mimetype": "text/x-python",
   "name": "python",
   "nbconvert_exporter": "python",
   "pygments_lexer": "ipython3",
   "version": "3.6.2"
  }
 },
 "nbformat": 4,
 "nbformat_minor": 2
}
