{
 "cells": [
  {
   "cell_type": "markdown",
   "metadata": {},
   "source": [
    "# Running a simple polarimeter\n",
    "In this tutorial we will simulate a simple polarimeter. We will implement a polarimeter that can only measure linear polarization states. It will consist of a rotating half-wave plate (the polarization modulator) and a linear polarizer (the analyzer). This polarimeter will be a single-beam system, which means that it can only measure one polarization state at the time. Therefore, it will use temporal polarization modulation to measure the other states as well.\n",
    "\n",
    "We start by importing the relevant python modules. "
   ]
  },
  {
   "cell_type": "code",
   "execution_count": null,
   "metadata": {},
   "outputs": [],
   "source": [
    "import numpy as np\n",
    "import matplotlib.pyplot as plt \n",
    "\n",
    "from hcipy import * \n",
    "\n",
    "%matplotlib inline"
   ]
  },
  {
   "cell_type": "markdown",
   "metadata": {},
   "source": [
    "We will do our measurements with a 4 meter diameter telescope at a wavelength of 500 nanometer. This will set the spatial resolution of the system.  "
   ]
  },
  {
   "cell_type": "code",
   "execution_count": null,
   "metadata": {},
   "outputs": [],
   "source": [
    "# parameters telescope\n",
    "telescope_diameter = 4 # meter \n",
    "wavelength = 500E-9 #m\n",
    "\n",
    "# the spatial resolution of the telescope\n",
    "spatial_resolution_telescope = wavelength / telescope_diameter\n",
    "\n",
    "# parameters star\n",
    "zero_magnitude_flux = 3.9E10\n",
    "stellar_magnitude = 0"
   ]
  },
  {
   "cell_type": "markdown",
   "metadata": {},
   "source": [
    "Setting the pupil- and focal-plane grids. We also define the propagator."
   ]
  },
  {
   "cell_type": "code",
   "execution_count": null,
   "metadata": {},
   "outputs": [],
   "source": [
    "# setting the grids\n",
    "pupil_grid = make_pupil_grid(128, telescope_diameter)\n",
    "focal_grid = make_focal_grid(q=6, num_airy=15, spatial_resolution=spatial_resolution_telescope)\n",
    "\n",
    "# the propagator between the pupil- and focal-grid. \n",
    "propagator = FraunhoferPropagator(pupil_grid, focal_grid) \n",
    "\n",
    "# setting the aperture of the telescope \n",
    "aperture = circular_aperture(telescope_diameter)(pupil_grid)"
   ]
  },
  {
   "cell_type": "markdown",
   "metadata": {},
   "source": [
    "Defining the states of the polarization modulator and the linear polarizer. "
   ]
  },
  {
   "cell_type": "code",
   "execution_count": null,
   "metadata": {},
   "outputs": [],
   "source": [
    "# states of the half-wave plate. \n",
    "HWP_state_1 = HalfWavePlate(0)\n",
    "HWP_state_2 = HalfWavePlate(np.radians(45))\n",
    "HWP_state_3 = HalfWavePlate(np.radians(22.5))\n",
    "HWP_state_4 = HalfWavePlate(np.radians(67.5))\n",
    "\n",
    "# the linear polarizer \n",
    "polarizer = LinearPolarizer(0)"
   ]
  },
  {
   "cell_type": "code",
   "execution_count": null,
   "metadata": {},
   "outputs": [],
   "source": [
    "detector = NoisyDetector(focal_grid, dark_current_rate=0, read_noise=0, flat_field=0, include_photon_noise=True)"
   ]
  },
  {
   "cell_type": "code",
   "execution_count": null,
   "metadata": {},
   "outputs": [],
   "source": [
    "pupil_wavefront = Wavefront(aperture, wavelength)\n",
    "\n",
    "pupil_wavefront.total_power = zero_magnitude_flux * 10**(-stellar_magnitude/2.5)\n",
    "print(\"Total photon flux {:g}\".format(pupil_wavefront.total_power))"
   ]
  },
  {
   "cell_type": "markdown",
   "metadata": {},
   "source": [
    "Setting up the loop"
   ]
  },
  {
   "cell_type": "code",
   "execution_count": null,
   "metadata": {},
   "outputs": [],
   "source": [
    "\n",
    "# total duration of the measurement\n",
    "loop_duration = 8 # seconds\n",
    "\n",
    "# number of measurements done (needs to be a multiple of 4)\n",
    "Nevals = 4 # evaluations \n",
    "\n",
    "# integration time per modulation state \n",
    "delta_t = loop_duration / Nevals\n",
    "\n",
    "# counter for the state of the modulation loop \n",
    "k = 0 \n",
    "\n",
    "for t in np.linspace(0, loop_duration, Nevals):\n",
    "    \n",
    "    # selecting the modulator state\n",
    "    if k == 0:\n",
    "        HWP_modulator_state = HWP_state_1\n",
    "    elif k == 1:\n",
    "        HWP_modulator_state = HWP_state_2\n",
    "    elif k == 2:\n",
    "        HWP_modulator_state = HWP_state_3\n",
    "    elif k == 3:\n",
    "        HWP_modulator_state = HWP_state_4\n",
    "        \n",
    "    # we propagate the wavefront through the half-wave plate \n",
    "    pupil_wavefront_2 = HWP_modulator_state.forward(pupil_wavefront)\n",
    "    \n",
    "    # we propagate the wavefront through the linear polarizer \n",
    "    pupil_wavefront_3 = polarizer.forward(pupil_wavefront_3)\n",
    "    \n",
    "    # propagating the wavefront to the focal-plane\n",
    "    focal_wavefront = propagator(pupil_wavefront_3)\n",
    "    \n",
    "    # integrating the detector\n",
    "    detector.integrate(focal_wavefront, dt=delta_t)\n",
    "    \n",
    "    # reading the detector out \n",
    "    \n",
    "    \n",
    "        \n",
    "        \n",
    "    # Moving to the next modulator state \n",
    "    k += 1 \n",
    "\n",
    "    # resetting the modulator \n",
    "    if k > 3:\n",
    "        k = 0\n",
    "    \n",
    "    "
   ]
  },
  {
   "cell_type": "code",
   "execution_count": null,
   "metadata": {},
   "outputs": [],
   "source": []
  }
 ],
 "metadata": {
  "kernelspec": {
   "display_name": "Python 3",
   "language": "python",
   "name": "python3"
  },
  "language_info": {
   "codemirror_mode": {
    "name": "ipython",
    "version": 3
   },
   "file_extension": ".py",
   "mimetype": "text/x-python",
   "name": "python",
   "nbconvert_exporter": "python",
   "pygments_lexer": "ipython3",
   "version": "3.6.2"
  }
 },
 "nbformat": 4,
 "nbformat_minor": 2
}
