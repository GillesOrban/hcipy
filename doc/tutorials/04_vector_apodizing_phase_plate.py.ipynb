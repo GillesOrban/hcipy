{
 "cells": [
  {
   "cell_type": "markdown",
   "metadata": {},
   "source": [
    "# Propagation of polarized light through a vector-Apodizing Phase Plate \n",
    "\n",
    "This tutorial introduces the implementation of polarized light in HCIpy and the correct polarization implementation of a vector apodizing phase plate."
   ]
  },
  {
   "cell_type": "code",
   "execution_count": null,
   "metadata": {},
   "outputs": [],
   "source": [
    "import numpy as np\n",
    "import matplotlib.pyplot as plt\n",
    "%matplotlib inline\n",
    "\n",
    "import matplotlib as mpl\n",
    "mpl.rc('image', interpolation='nearest', origin='lower')\n",
    "mpl.rcParams.update({'font.size': 22})\n",
    "plt.rc('figure', figsize=(10.0, 10.0))\n",
    "\n",
    "\n",
    "from hcipy import *"
   ]
  },
  {
   "cell_type": "code",
   "execution_count": null,
   "metadata": {},
   "outputs": [],
   "source": [
    "pupil_grid = make_pupil_grid(512)\n",
    "\n",
    "aperture = make_magellan_aperture(True)\n",
    "\n",
    "telescope_pupil = aperture(pupil_grid)\n",
    "\n",
    "imshow_field(telescope_pupil, cmap='gray')\n",
    "plt.show()"
   ]
  },
  {
   "cell_type": "code",
   "execution_count": null,
   "metadata": {},
   "outputs": [],
   "source": [
    "wavefront = Wavefront(telescope_pupil, 1)\n",
    "\n",
    "focal_grid = make_focal_grid(4, 20)\n",
    "\n",
    "prop = FraunhoferPropagator(pupil_grid, focal_grid)\n",
    "\n",
    "num_iterations = 80\n",
    "\n",
    "contrast_level = 1e-5\n",
    "\n",
    "\n",
    "dark_zone = (circular_aperture(30)(focal_grid)).astype(bool)*(focal_grid.x>2)\n",
    "\n",
    "contrast = focal_grid.ones()\n",
    "\n",
    "contrast[dark_zone] = contrast_level\n",
    "\n",
    "vAPP = generate_app_keller(wavefront, prop, contrast, num_iterations, beta = 1)\n",
    "\n",
    "plt.figure()\n",
    "imshow_field(vAPP.phase)\n",
    "\n",
    "plt.figure()\n",
    "imshow_field(np.log10(prop(vAPP).intensity/np.max(prop(vAPP).intensity)),vmin = -5)\n",
    "\n",
    "plt.show()"
   ]
  },
  {
   "cell_type": "code",
   "execution_count": null,
   "metadata": {},
   "outputs": [],
   "source": [
    "\n",
    "focal_grid2 = make_focal_grid(4, 60)\n",
    "\n",
    "prop2 = FraunhoferPropagator(pupil_grid, focal_grid2)\n",
    "\n",
    "num_iterations = 80\n",
    "\n",
    "contrast_level = 1e-5\n",
    "\n",
    "\n",
    "dark_zone2 = (circular_aperture(30)(focal_grid2)).astype(bool)*(focal_grid2.x>2)\n",
    "\n",
    "dark_zone2 += circular_aperture(10)(focal_grid2.shifted((0,20))).astype(bool)\n",
    "\n",
    "dark_zone2 +=  (circular_aperture(30)(focal_grid2.shifted((0,40)))).astype(bool)*(focal_grid2.x<-2)\n",
    "\n",
    "\n",
    "contrast = focal_grid2.ones()\n",
    "\n",
    "contrast[dark_zone2] = contrast_level\n",
    "\n",
    "vAPP = generate_app_keller(wavefront, prop2, contrast, num_iterations, beta = 1)\n",
    "\n",
    "vAPP.electric_field *= np.exp(1j*pupil_grid.y*2*np.pi*20)*telescope_pupil\n",
    "\n"
   ]
  },
  {
   "cell_type": "code",
   "execution_count": null,
   "metadata": {},
   "outputs": [],
   "source": [
    "plt.figure()\n",
    "imshow_field(vAPP.amplitude)\n",
    "\n",
    "plt.figure()\n",
    "imshow_field(np.log10(prop2(vAPP).intensity/np.max(prop2(vAPP).intensity)),vmin = -5)\n",
    "\n",
    "plt.show()\n",
    "\n"
   ]
  },
  {
   "cell_type": "code",
   "execution_count": null,
   "metadata": {},
   "outputs": [],
   "source": [
    "fast_axis_orientation = vAPP.phase/2\n",
    "\n",
    "phase_retardation = np.pi-0.2\n",
    "\n",
    "circularity = 0\n",
    "\n",
    "vAPP_pol = PhaseRetarder(phase_retardation,fast_axis_orientation,circularity)\n",
    "\n",
    "#wavefront = Wavefront(Field(telescope_pupil[np.newaxis,:]*np.array([1,1j])[:,np.newaxis],pupil_grid),1)\n",
    "\n",
    "\n",
    "wavefront = Wavefront(telescope_pupil,1 ,stokes_vector=(1,0,0,0))\n",
    "\n",
    "focal_grid = make_focal_grid(8, 40)\n",
    "\n",
    "prop = FraunhoferPropagator(pupil_grid, focal_grid)\n",
    "\n",
    "\n",
    "wavefront_out = vAPP_pol.forward(wavefront)\n",
    "\n",
    "\n",
    "vAPP_PSF = (prop(wavefront_out).I)#.sum(axis = 0)\n",
    "print(vAPP_PSF.shape)\n",
    "\n",
    "imshow_field(np.log10(vAPP_PSF/vAPP_PSF.max()),vmin = -5)\n",
    "plt.show()\n",
    "\n"
   ]
  },
  {
   "cell_type": "code",
   "execution_count": null,
   "metadata": {},
   "outputs": [],
   "source": []
  }
 ],
 "metadata": {
  "kernelspec": {
   "display_name": "'Python Interactive'",
   "language": "python",
   "name": "be95f11e-c212-4e3c-addc-b79b505c8a34"
  },
  "language_info": {
   "codemirror_mode": {
    "name": "ipython",
    "version": 3
   },
   "file_extension": ".py",
   "mimetype": "text/x-python",
   "name": "python",
   "nbconvert_exporter": "python",
   "pygments_lexer": "ipython3",
   "version": "3.6.5"
  }
 },
 "nbformat": 4,
 "nbformat_minor": 2
}
