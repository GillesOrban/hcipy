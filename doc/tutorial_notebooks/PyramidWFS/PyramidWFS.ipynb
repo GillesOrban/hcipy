{
 "cells": [
  {
   "cell_type": "markdown",
   "metadata": {},
   "source": [
    "# Wavefront sensing with a Pyramid wavefront sensor\n",
    "\n",
    "We will simulate a closed-loop adaptive optics system, based on the the Magellan Adaptive Optics Extreme (MagAO-X) system, that uses an unmodulated pyramid wavefront sensor with a 2k-MEMS DM.\n",
    "\n",
    "We first start by importing the relevant python modules."
   ]
  },
  {
   "cell_type": "code",
   "execution_count": null,
   "metadata": {},
   "outputs": [],
   "source": [
    "from hcipy import *\n",
    "import numpy as np\n",
    "import matplotlib.pyplot as plt\n",
    "\n",
    "# These modules are used for animating some of the graphs in our notebook.\n",
    "from matplotlib import animation, rc\n",
    "from IPython.display import HTML\n",
    "\n",
    "%matplotlib inline"
   ]
  },
  {
   "cell_type": "markdown",
   "metadata": {},
   "source": [
    "We start by defining a few parameters according to the MagAO-X specifications. The Magallen telescope has a diameter of 6.5 meters, and we will use a sensing wavelength of 842nm. A zero magnitude star will have flux of 3.9E10 photons/s."
   ]
  },
  {
   "cell_type": "code",
   "execution_count": null,
   "metadata": {},
   "outputs": [],
   "source": [
    "wavelength_wfs = 842.0E-9\n",
    "telescope_diameter = 6.5\n",
    "zero_magnitude_flux = 3.9E10\n",
    "stellar_magnitude = 0"
   ]
  },
  {
   "cell_type": "markdown",
   "metadata": {},
   "source": [
    "The pyramid wavefront sensor design has a sampling of 56 pixels across the pupil with a distance of 60 pixels between the pupils. The final image size will be 120x120, which is the sampling of OCAM2K camera after 2x2 binning. To get the sampling correct it is the easiest to choose the pupil_grid_diameter as 60/56 larger than the actual telescope_diameter. On the created pupil grids we can evaluate the telescope aperture."
   ]
  },
  {
   "cell_type": "code",
   "execution_count": null,
   "metadata": {},
   "outputs": [],
   "source": [
    "num_pupil_pixels = 60\n",
    "pupil_grid_diameter = 60/56 * telescope_diameter\n",
    "pupil_grid = make_pupil_grid(num_pupil_pixels, pupil_grid_diameter)\n",
    "\n",
    "magallen_aperture = evaluate_supersampled(make_magellan_aperture(), pupil_grid, 6)\n",
    "\n",
    "imshow_field(magallen_aperture)\n",
    "plt.xlabel('x position(m)')\n",
    "plt.ylabel('y position(m)')\n",
    "plt.colorbar()\n",
    "plt.show()"
   ]
  },
  {
   "cell_type": "markdown",
   "metadata": {},
   "source": [
    "Let's make our deformable mirror. MagAO-X uses a 2k-MEMS DM of Boston Micromachines. The influence functions of the DM are nearly gaussian. We will therefore make a DM with Gaussian influence functions. There are 50 actuators across the pupil."
   ]
  },
  {
   "cell_type": "code",
   "execution_count": null,
   "metadata": {},
   "outputs": [],
   "source": [
    "num_act = 10\n",
    "pitch = telescope_diameter / num_act\n",
    "poke_centers = make_pupil_grid(num_act, telescope_diameter)\n",
    "poke_centers = poke_centers.subset(poke_centers.as_('polar').r < telescope_diameter / 2)\n",
    "dm_modes = make_gaussian_pokes(pupil_grid, poke_centers, pitch * np.sqrt(2))\n",
    "num_modes = poke_centers.x.size\n",
    "\n",
    "deformable_mirror = DeformableMirror(dm_modes)"
   ]
  },
  {
   "cell_type": "markdown",
   "metadata": {},
   "source": [
    "Now we are going to make the optics of the pyramid wavefront sensor and the camera. Because the OCAM2K is a very high performance EMCCD we will simulate this detector as a noiseless detector."
   ]
  },
  {
   "cell_type": "code",
   "execution_count": null,
   "metadata": {},
   "outputs": [],
   "source": [
    "pwfs = PyramidWavefrontSensorOptics(pupil_grid, wavelength_0=wavelength_wfs)\n",
    "camera = NoiselessDetector()"
   ]
  },
  {
   "cell_type": "markdown",
   "metadata": {},
   "source": [
    "We are going to use a linear reconstruction algorithm for the wavefront estimation and for that we will need to measure the reference response of a perfect incoming wavefront. To create this we create an unabberated wavefront and propagate it through the pyramid wavefront sensor. Then we will integrate the response with our camera.\n",
    "\n",
    "The final reference will be divided by the total sum to normalize the wavefront sensor response. Doing this consequently for all exposures will make sure that we can use this reference for arbitrary exposure times and photon fluxes."
   ]
  },
  {
   "cell_type": "code",
   "execution_count": null,
   "metadata": {},
   "outputs": [],
   "source": [
    "wf = Wavefront(magallen_aperture, wavelength_wfs)\n",
    "wf.total_power = 1\n",
    "\n",
    "camera.integrate( pwfs.forward(wf), 1)\n",
    "\n",
    "image_ref = camera.read_out()\n",
    "image_ref /= image_ref.sum()\n",
    "\n",
    "imshow_field(image_ref)\n",
    "plt.colorbar()\n",
    "plt.show()"
   ]
  },
  {
   "cell_type": "markdown",
   "metadata": {},
   "source": [
    "For the linear reconstructor we need to now the interaction matrix, which tells us how the pyramid wavefront sensor responds to each actuator of the deformable mirror. This can be build by sequentially applying a positive and negative voltage on a single acuator. The difference between the two gives us the actuator response.\n",
    "\n",
    "We will use the full image of the pyramid wavefront sensor for the reconstruction, so we do not compute the normalized differences between the pupils."
   ]
  },
  {
   "cell_type": "code",
   "execution_count": null,
   "metadata": {},
   "outputs": [],
   "source": [
    "# Create the interaction matrix\n",
    "probe_amp = 0.01 * wavelength_wfs\n",
    "slopes = []\n",
    "\n",
    "wf = Wavefront(magallen_aperture, wavelength_wfs)\n",
    "wf.total_power = 1\n",
    "\n",
    "for ind in range(num_modes):\n",
    "    if ind % 10 == 0:\n",
    "        print(\"Measure response to mode {:d} / {:d}\".format(ind+1, num_modes))\n",
    "    slope = 0\n",
    "\n",
    "    # Probe the phase response\n",
    "    for s in [1, -1]:\n",
    "        amp = np.zeros((num_modes,))\n",
    "        amp[ind] = s * probe_amp\n",
    "        deformable_mirror.actuators = amp\n",
    "\n",
    "        dm_wf = deformable_mirror.forward(wf)\n",
    "        wfs_wf = pwfs.forward(dm_wf)\n",
    "\n",
    "        camera.integrate(wfs_wf, 1)\n",
    "        image = camera.read_out()\n",
    "        image /= np.sum(image)\n",
    "\n",
    "        slope += s * (image-image_ref)/(2 * probe_amp)\n",
    "\n",
    "    slopes.append(slope)\n",
    "\n",
    "slopes = ModeBasis(slopes)"
   ]
  },
  {
   "cell_type": "markdown",
   "metadata": {},
   "source": [
    "The matrix that we build by poking the actuators can be used to transform a DM pattern into the wavefront sensor response. For wavefront reconstruction we want to invert this. We currently have,\n",
    "\\begin{equation}\n",
    "\\vec{S} = A\\vec{\\phi}.\n",
    "\\end{equation}\n",
    "With $\\vec{S}$ being the response of the wavefront sensor, $A$ the interaction matrix and $\\vec{\\phi}$ the incoming pertubation on the DM. This equation can be solved in a linear least squares sense,\n",
    "\\begin{equation}\n",
    "\\vec{\\phi} = \\left(A^TA\\right)^{-1} A^T\\vec{S}.\n",
    "\\end{equation}\n",
    "The matrix $\\left(A^TA\\right)^{-1} A^T$ can be found by applying a pseudo-inverse operation on the matrix $A$. A regularized version of this is implemented in HCIpy with the inverse_tikhonov function."
   ]
  },
  {
   "cell_type": "code",
   "execution_count": null,
   "metadata": {},
   "outputs": [],
   "source": [
    "rcond = 1E-3\n",
    "reconstruction_matrix = inverse_tikhonov(slopes.transformation_matrix, rcond=rcond, svd=None)"
   ]
  },
  {
   "cell_type": "markdown",
   "metadata": {},
   "source": [
    "The wavefront is then initialized with the Magallen aperture and the sensing wavelength. To have something to measure and correct we put a random shape on the DM."
   ]
  },
  {
   "cell_type": "code",
   "execution_count": null,
   "metadata": {},
   "outputs": [],
   "source": [
    "wf_wfs = Wavefront(magallen_aperture, wavelength_wfs)\n",
    "wf_wfs.total_power = zero_magnitude_flux * 10**(-stellar_magnitude/2.5)\n",
    "print(\"Total photon flux {:g}\".format(wf_wfs.total_power))\n",
    "\n",
    "deformable_mirror.random(0.1 * wavelength_wfs)"
   ]
  },
  {
   "cell_type": "markdown",
   "metadata": {},
   "source": [
    "Now lets setup the parameters of our AO system. The first step is to choose an integration time for the exposures. We choose an exposure time of 1 ms, so we are running our AO system at 1 kHz. For the controller we choose to use a leaky integrator which has been proven to be a robust controller. The leaky integrator has two paramets, the leakage and the gain."
   ]
  },
  {
   "cell_type": "code",
   "execution_count": null,
   "metadata": {},
   "outputs": [],
   "source": [
    "delta_t = 1E-3\n",
    "leakage = 0.01\n",
    "gain = 0.5"
   ]
  },
  {
   "cell_type": "markdown",
   "metadata": {},
   "source": [
    "Measure some statistics from the input wavefront so that we can later compare the improvement."
   ]
  },
  {
   "cell_type": "code",
   "execution_count": null,
   "metadata": {},
   "outputs": [],
   "source": [
    "input_opd = deformable_mirror.opd\n",
    "input_opd = magallen_aperture * (input_opd - np.mean(input_opd[magallen_aperture>0]))\n",
    "\n",
    "input_phase_rms = 2 * np.pi / wavelength_wfs * np.std(input_opd[magallen_aperture>0])\n",
    "\n",
    "spatial_resolution = wavelength_wfs / telescope_diameter\n",
    "focal_grid = make_focal_grid(q=8, num_airy=20, spatial_resolution=spatial_resolution)\n",
    "\n",
    "propagator = FraunhoferPropagator(pupil_grid, focal_grid)\n",
    "\n",
    "Inorm = propagator.forward( wf_wfs ).power.max()\n",
    "PSF_in = propagator.forward( deformable_mirror.forward(wf_wfs) ).power / Inorm\n",
    "input_strehl = PSF_in.max()\n"
   ]
  },
  {
   "cell_type": "markdown",
   "metadata": {},
   "source": [
    "Now we are ready to run the system in closed loop. We will run for 10 iterations."
   ]
  },
  {
   "cell_type": "code",
   "execution_count": null,
   "metadata": {},
   "outputs": [],
   "source": [
    "for i in range(10):\n",
    "    wf_dm = deformable_mirror.forward(wf_wfs)\n",
    "    wf_pyr = pwfs.forward(wf_dm)\n",
    "\n",
    "    camera.integrate(wf_pyr, 1)\n",
    "    wfs_image = large_poisson( camera.read_out() ).astype(np.float)\n",
    "    wfs_image /= np.sum(wfs_image)\n",
    "\n",
    "    diff_image = wfs_image-image_ref\n",
    "    deformable_mirror.actuators = (1-leakage) * deformable_mirror.actuators - gain * reconstruction_matrix.dot(diff_image)\n",
    "    \n",
    "PSF_out = propagator.forward( deformable_mirror.forward(wf_wfs) ).power/Inorm"
   ]
  },
  {
   "cell_type": "markdown",
   "metadata": {},
   "source": [
    "Now we compare the input wavefront to the output wavefront. We can clearly see a large improvement in the quality of the wavefront."
   ]
  },
  {
   "cell_type": "code",
   "execution_count": null,
   "metadata": {},
   "outputs": [],
   "source": [
    "residual_opd = deformable_mirror.opd\n",
    "residual_opd = magallen_aperture * (residual_opd - np.mean(residual_opd[magallen_aperture>0]))\n",
    "\n",
    "phase_rms = 2 * np.pi / wavelength_wfs * np.std(residual_opd[magallen_aperture>0])\n",
    "strehl = PSF_out.max()\n",
    "\n",
    "print(\"Estimated Strehl input {:g} and output {:g}\".format(input_strehl, strehl))\n",
    "\n",
    "plt.figure(figsize=(16,8))\n",
    "plt.subplot(2,2,1)\n",
    "imshow_field(input_opd/wavelength_wfs)\n",
    "plt.colorbar()\n",
    "\n",
    "plt.subplot(2,2,2)\n",
    "imshow_field(residual_opd/wavelength_wfs)\n",
    "plt.colorbar()\n",
    "\n",
    "plt.subplot(2,2,3)\n",
    "imshow_field(np.log10(PSF_in), vmin=-5, vmax=0)\n",
    "plt.colorbar()\n",
    "\n",
    "plt.subplot(2,2,4)\n",
    "imshow_field(np.log10(PSF_out), vmin=-5, vmax=0)\n",
    "plt.colorbar()\n",
    "\n",
    "plt.show()"
   ]
  },
  {
   "cell_type": "markdown",
   "metadata": {
    "collapsed": true
   },
   "source": [
    "And if we run for another 10 iterations the PSF close to perfect."
   ]
  },
  {
   "cell_type": "code",
   "execution_count": null,
   "metadata": {},
   "outputs": [],
   "source": [
    "for i in range(10):\n",
    "    wf_dm = deformable_mirror.forward(wf_wfs)\n",
    "    wf_pyr = pwfs.forward(wf_dm)\n",
    "\n",
    "    camera.integrate(wf_pyr, 1)\n",
    "    wfs_image = large_poisson( camera.read_out() ).astype(np.float)\n",
    "    wfs_image /= np.sum(wfs_image)\n",
    "\n",
    "    diff_image = wfs_image-image_ref\n",
    "    deformable_mirror.actuators = (1-leakage) * deformable_mirror.actuators - gain * reconstruction_matrix.dot(diff_image)\n",
    "    \n",
    "PSF_out = propagator.forward( deformable_mirror.forward(wf_wfs) ).power/Inorm"
   ]
  },
  {
   "cell_type": "markdown",
   "metadata": {},
   "source": [
    "Then we look at the final wavefront statistics again. This time the wavefront is almost perfectly flat."
   ]
  },
  {
   "cell_type": "code",
   "execution_count": null,
   "metadata": {},
   "outputs": [],
   "source": [
    "residual_opd = deformable_mirror.opd\n",
    "residual_opd = magallen_aperture * (residual_opd - np.mean(residual_opd[magallen_aperture>0]))\n",
    "\n",
    "phase_rms = 2 * np.pi / wavelength_wfs * np.std(residual_opd[magallen_aperture>0])\n",
    "strehl = PSF_out.max()\n",
    "\n",
    "print(\"Estimated Strehl input {:g} and output {:g}\".format(input_strehl, strehl))\n",
    "\n",
    "plt.figure(figsize=(16,8))\n",
    "plt.subplot(2,2,1)\n",
    "imshow_field(input_opd/wavelength_wfs)\n",
    "plt.colorbar()\n",
    "\n",
    "plt.subplot(2,2,2)\n",
    "imshow_field(residual_opd/wavelength_wfs)\n",
    "plt.colorbar()\n",
    "\n",
    "plt.subplot(2,2,3)\n",
    "imshow_field(np.log10(PSF_in), vmin=-5, vmax=0)\n",
    "plt.colorbar()\n",
    "\n",
    "plt.subplot(2,2,4)\n",
    "imshow_field(np.log10(PSF_out), vmin=-5, vmax=0)\n",
    "plt.colorbar()\n",
    "\n",
    "plt.show()"
   ]
  },
  {
   "cell_type": "code",
   "execution_count": null,
   "metadata": {},
   "outputs": [],
   "source": []
  }
 ],
 "metadata": {
  "kernelspec": {
   "display_name": "Python 3",
   "language": "python",
   "name": "python3"
  },
  "language_info": {
   "codemirror_mode": {
    "name": "ipython",
    "version": 3
   },
   "file_extension": ".py",
   "mimetype": "text/x-python",
   "name": "python",
   "nbconvert_exporter": "python",
   "pygments_lexer": "ipython3",
   "version": "3.7.3"
  },
  "level": "intermediate",
  "thumbnail_figure_index": 1
 },
 "nbformat": 4,
 "nbformat_minor": 2
}
