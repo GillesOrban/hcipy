{
 "cells": [
  {
   "cell_type": "markdown",
   "metadata": {},
   "source": [
    "# Simulating a simple polarimeter\n",
    "In this tutorial we will simulate with hcipy a simple polarimeter that measures linear polarization states. It will consist of a rotating half-wave plate (HWP; the polarization modulator) and a linear polarizer (the analyzer). The system will be a single-beam, which means that it can only measure one polarization state at the time. Therefore, it will use temporal polarization modulation (i.e. the rotating HWP) to measure the other states as well. We will use this polarimeter to measure the polarization state of a star. \n",
    "\n",
    "A good introduction on polarimetry can be found in Snik, F., & Keller, C. U. (2013). Astronomical polarimetry: polarized views of stars and planets. We assume a basic knowledge on polarimetry (e.g. Stokes vectors, waveplates, polarizers). \n",
    "\n",
    "We start by importing the relevant python modules. "
   ]
  },
  {
   "cell_type": "code",
   "execution_count": null,
   "metadata": {},
   "outputs": [],
   "source": [
    "import numpy as np\n",
    "import matplotlib.pyplot as plt \n",
    "\n",
    "from hcipy import * "
   ]
  },
  {
   "cell_type": "markdown",
   "metadata": {},
   "source": [
    "We will do our measurements with a 4 meter diameter telescope at a wavelength of 500 nanometer. This will set the spatial resolution of the system. "
   ]
  },
  {
   "cell_type": "code",
   "execution_count": null,
   "metadata": {},
   "outputs": [],
   "source": [
    "# parameters telescope\n",
    "telescope_diameter = 4 # meter \n",
    "wavelength = 500E-9 #meter\n",
    "\n",
    "# the spatial resolution\n",
    "spatial_resolution_telescope = wavelength / telescope_diameter"
   ]
  },
  {
   "cell_type": "markdown",
   "metadata": {},
   "source": [
    "This allows us to set the pupil- and focal-plane grids, and the propagator."
   ]
  },
  {
   "cell_type": "code",
   "execution_count": null,
   "metadata": {},
   "outputs": [],
   "source": [
    "# setting the grids\n",
    "pupil_grid = make_pupil_grid(128, telescope_diameter)\n",
    "focal_grid = make_focal_grid(q=6, num_airy=10, spatial_resolution=spatial_resolution_telescope)\n",
    "\n",
    "# the propagator between the pupil- and focal-grid. \n",
    "propagator = FraunhoferPropagator(pupil_grid, focal_grid) "
   ]
  },
  {
   "cell_type": "markdown",
   "metadata": {},
   "source": [
    "Defining the aperture, the HWP positions, the linear polarizer and the detector. This detector is perfect in the sense that it has no dark current, no read noise and no flat field errors. Therefore, we will only suffer from photon noise. "
   ]
  },
  {
   "cell_type": "code",
   "execution_count": null,
   "metadata": {},
   "outputs": [],
   "source": [
    "aperture = circular_aperture(telescope_diameter)(pupil_grid)\n",
    "\n",
    "# states of the half-wave plate. \n",
    "HWP_position_1 = HalfWavePlate(0)\n",
    "HWP_position_2 = HalfWavePlate(np.radians(45))\n",
    "HWP_position_3 = HalfWavePlate(np.radians(22.5))\n",
    "HWP_position_4 = HalfWavePlate(np.radians(67.5))\n",
    "\n",
    "polarizer = LinearPolarizer(0)\n",
    "\n",
    "detector = NoisyDetector(focal_grid, dark_current_rate=0, read_noise=0, flat_field=0, include_photon_noise=False)"
   ]
  },
  {
   "cell_type": "markdown",
   "metadata": {},
   "source": [
    "We now define the parameters for the starlight, e.g. its flux level and polarization state, which we eventually hope to measure."
   ]
  },
  {
   "cell_type": "code",
   "execution_count": null,
   "metadata": {
    "scrolled": true
   },
   "outputs": [],
   "source": [
    "# parameters star\n",
    "zero_magnitude_flux = 3.9E10\n",
    "stellar_magnitude = 8\n",
    "\n",
    "# the polarization state of the starlight.\n",
    "stokes_vector_star = np.array([1,0.05,-0.2,0.1])\n",
    "\n",
    "# Here we give the wavefront the properties (power, polarization state) of the starlight.\n",
    "pupil_wavefront = Wavefront(aperture, wavelength, input_stokes_vector=stokes_vector_star)\n",
    "\n",
    "pupil_wavefront.total_power = zero_magnitude_flux * 10**(-stellar_magnitude / 2.5)\n",
    "\n",
    "print(\"Total photon flux {:g} photons / sec.\".format(pupil_wavefront.total_power))"
   ]
  },
  {
   "cell_type": "markdown",
   "metadata": {},
   "source": [
    "We can check the polarization state of the wavefront simply by: "
   ]
  },
  {
   "cell_type": "code",
   "execution_count": null,
   "metadata": {},
   "outputs": [],
   "source": [
    "stokes_parameters = [pupil_wavefront.I, pupil_wavefront.Q, pupil_wavefront.U, pupil_wavefront.V]\n",
    "titles = ['I', 'Q', 'U', 'V']\n",
    "\n",
    "# The value that we use to normalize the stokes vector with. \n",
    "max_val = np.max(stokes_parameters[0])\n",
    "\n",
    "k=1\n",
    "plt.figure(figsize=(16, 8))\n",
    "\n",
    "for stokes_parameter, title in zip(stokes_parameters, titles):\n",
    "        \n",
    "    if max_val == 0:\n",
    "        max_val = 1\n",
    "\n",
    "    plt.subplot(1,4,k)\n",
    "\n",
    "    imshow_field(stokes_parameter / max_val, cmap='bwr', vmin=-1, vmax=1)\n",
    "    \n",
    "    plt.xlabel('x [meter]')\n",
    "    \n",
    "    if title == 'I':\n",
    "        plt.ylabel('y [meter]')\n",
    "    \n",
    "    plt.title('Stokes ' + title)\n",
    "    k += 1"
   ]
  },
  {
   "cell_type": "markdown",
   "metadata": {},
   "source": [
    "We will now simulate our polarimeter for a given time duration. During the simulation we will perform multiple HWP cycles. During one HWP cycle the HWP will rotate through its four positions. For every HWP position we will make an intensity measurement.   "
   ]
  },
  {
   "cell_type": "code",
   "execution_count": null,
   "metadata": {},
   "outputs": [],
   "source": [
    "\n",
    "# total duration of the measurement\n",
    "measurement_duration = 8 # seconds\n",
    "\n",
    "# number of times we go through a HWP cycle\n",
    "HWP_cycles = 4\n",
    "\n",
    "# integration time per measurement\n",
    "delta_t = measurement_duration / (HWP_cycles * 4) \n",
    "\n",
    "# counter for the state of the modulation loop \n",
    "k = 0 \n",
    "\n",
    "# The arrays where the measurements are saved \n",
    "measurements = Field(np.zeros((4, focal_grid.size)), focal_grid)\n",
    "\n",
    "# looping through the time steps \n",
    "for t in np.linspace(0, measurement_duration, HWP_cycles * 4):\n",
    "    \n",
    "    # selecting the HWP position\n",
    "    if k == 0:\n",
    "        HWP_position = HWP_position_1\n",
    "    elif k == 1:\n",
    "        HWP_position = HWP_position_2\n",
    "    elif k == 2:\n",
    "        HWP_position = HWP_position_3\n",
    "    elif k == 3:\n",
    "        HWP_position = HWP_position_4\n",
    "        \n",
    "    # we propagate the wavefront through the half-wave plate \n",
    "    pupil_wavefront_2 = HWP_position.forward(pupil_wavefront)\n",
    "    \n",
    "    # we propagate the wavefront through the linear polarizer \n",
    "    pupil_wavefront_3 = polarizer.forward(pupil_wavefront_2)\n",
    "    \n",
    "    focal_wavefront = propagator(pupil_wavefront_3)\n",
    "\n",
    "    detector.integrate(focal_wavefront, dt=delta_t)\n",
    "    \n",
    "    # reading out the detector in the correct element of the measurement array\n",
    "    measurements[k,:] += detector.read_out()\n",
    "    \n",
    "    # Moving to the next HWP position\n",
    "    k += 1 \n",
    "\n",
    "    # resetting the HWP to its intial position\n",
    "    if k > 3:\n",
    "        k = 0"
   ]
  },
  {
   "cell_type": "markdown",
   "metadata": {},
   "source": [
    "Lets plot the measurements for the various HWP positions and the total number of photons. Note that the measurements have different numbers of photons, this is due to the starlight's polarization state. "
   ]
  },
  {
   "cell_type": "code",
   "execution_count": null,
   "metadata": {},
   "outputs": [],
   "source": [
    "plt.figure(figsize=(16, 8))\n",
    "\n",
    "max_val_meas = np.max(measurements) \n",
    "\n",
    "for i in np.arange(4):\n",
    "    plt.subplot(1,4,i+1)\n",
    "    imshow_field(np.log10(measurements[i,:] / max_val_meas), vmin=-4, vmax=0)\n",
    "    \n",
    "    plt.xlabel('x [rad]')\n",
    "    \n",
    "    if i == 0:\n",
    "        plt.ylabel('y [rad]')\n",
    "    \n",
    "    print('\\nHWP position ', i+1)\n",
    "    print('Number of photons = ', int(np.sum(measurements[i,:])))\n",
    "\n",
    "    plt.title('HWP position ' + str(i+1))"
   ]
  },
  {
   "cell_type": "markdown",
   "metadata": {},
   "source": [
    "We now have our measurements, which we want to convert into a polarization state. We do this by multiplying the measurements with a demodulation matrix. This matrix combines the measurements in such a way that the polarization state is retrieved. The demodulation matrix for this system is given by:"
   ]
  },
  {
   "cell_type": "code",
   "execution_count": null,
   "metadata": {},
   "outputs": [],
   "source": [
    "# defining the demodulation matrix\n",
    "demodulation_matrix = np.zeros((4,4))\n",
    "\n",
    "# demodulation for I\n",
    "demodulation_matrix[0,:] = 0.25\n",
    "\n",
    "# demodulation for Q\n",
    "demodulation_matrix[1,0] = 0.5\n",
    "demodulation_matrix[1,1] = -0.5\n",
    "\n",
    "# demodulation for U\n",
    "demodulation_matrix[2,2] = 0.5\n",
    "demodulation_matrix[2,3] = -0.5\n",
    "\n",
    "print('demodulation matrix = \\n', demodulation_matrix)"
   ]
  },
  {
   "cell_type": "markdown",
   "metadata": {},
   "source": [
    "Let's do aperture photometry on the star to construct a 1-dimensional measurement vector. We use an aperture with a diameter of the spatial resolution of the telescope (i.e. $1$ $\\lambda/D$). \n",
    "\n",
    "After that, we calculate the polarization state by multiplying this vector with the demodulation matrix. \n",
    "\n",
    "We see that we can completely retrieve the linear polarization state, but that we are not able to measure circular polarization."
   ]
  },
  {
   "cell_type": "code",
   "execution_count": null,
   "metadata": {},
   "outputs": [],
   "source": [
    "photometry_aperture = circular_aperture(spatial_resolution_telescope)(focal_grid)\n",
    "\n",
    "# generating the measurement vector by doing aperture photometry. \n",
    "measurement_vector = np.array(np.sum(measurements[:,photometry_aperture==1], axis=1))\n",
    "\n",
    "# calculating the measured Stokes vector \n",
    "stokes_measured = field_dot(demodulation_matrix, measurement_vector)\n",
    "\n",
    "print('Measured Stokes vector = \\n', stokes_measured / stokes_measured[0])\n",
    "\n",
    "print('Input Stokes vector = \\n', pupil_wavefront.input_stokes_vector)\n"
   ]
  },
  {
   "cell_type": "markdown",
   "metadata": {},
   "source": [
    "To make this simulation more realistic, one can add the following:\n",
    "1. realistic telescope aperture\n",
    "2. non-perfect polarization optics\n",
    "3. atmospheric turbulence and adaptive optics\n",
    "4. detector noise (e.g. dark current, read noise, etc)"
   ]
  },
  {
   "cell_type": "code",
   "execution_count": null,
   "metadata": {},
   "outputs": [],
   "source": []
  }
 ],
 "metadata": {
  "kernelspec": {
   "display_name": "Python 3",
   "language": "python",
   "name": "python3"
  },
  "language_info": {
   "codemirror_mode": {
    "name": "ipython",
    "version": 3
   },
   "file_extension": ".py",
   "mimetype": "text/x-python",
   "name": "python",
   "nbconvert_exporter": "python",
   "pygments_lexer": "ipython3",
   "version": "3.6.2"
  },
  "level": "intermediate",
  "thumbnail_figure": -1
 },
 "nbformat": 4,
 "nbformat_minor": 2
}
