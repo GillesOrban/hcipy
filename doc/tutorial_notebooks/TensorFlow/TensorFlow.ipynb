{
 "cells": [
  {
   "cell_type": "markdown",
   "metadata": {},
   "source": [
    "# TensorFlow integration\n",
    "\n",
    "HCIPy supports not only Numpy as its numerical backend, but also TensorFlow. This allows for using GPU acceleration as well as automatic differentiation for fast gradient evaluation. In this tutorial, we will propagate through a few optical systems with Tensorflow and perform gradient descent optimization."
   ]
  },
  {
   "cell_type": "code",
   "execution_count": null,
   "metadata": {},
   "outputs": [],
   "source": [
    "from hcipy import *\n",
    "import numpy as np\n",
    "import matplotlib.pyplot as plt\n",
    "import tensorflow as tf\n",
    "\n",
    "import time\n",
    "\n",
    "gpus = tf.config.experimental.list_physical_devices('GPU')\n",
    "tf.config.experimental.set_memory_growth(gpus[0], True)"
   ]
  },
  {
   "cell_type": "markdown",
   "metadata": {},
   "source": [
    "## Basics"
   ]
  },
  {
   "cell_type": "code",
   "execution_count": null,
   "metadata": {},
   "outputs": [],
   "source": [
    "pupil_grid = make_pupil_grid(256)\n",
    "focal_grid = make_focal_grid(8, 16)\n",
    "prop = FraunhoferPropagator(pupil_grid, focal_grid)"
   ]
  },
  {
   "cell_type": "code",
   "execution_count": null,
   "metadata": {},
   "outputs": [],
   "source": [
    "# Numpy\n",
    "aperture_np = evaluate_supersampled(circular_aperture(1), pupil_grid, 8)\n",
    "\n",
    "# TensorFlow\n",
    "aperture_tf = aperture_np.as_backend('tensorflow')"
   ]
  },
  {
   "cell_type": "code",
   "execution_count": null,
   "metadata": {},
   "outputs": [],
   "source": [
    "print(type(aperture_np).__name__)\n",
    "print(type(aperture_tf).__name__)"
   ]
  },
  {
   "cell_type": "code",
   "execution_count": null,
   "metadata": {},
   "outputs": [],
   "source": [
    "# Numpy\n",
    "img_np = prop(Wavefront(aperture_np))\n",
    "\n",
    "start = time.time()\n",
    "for i in range(100):\n",
    "    img_np = prop(Wavefront(aperture_np))\n",
    "end = time.time()\n",
    "print((end - start) / 100, 's')\n",
    "\n",
    "# TensorFlow\n",
    "img_tf = prop(Wavefront(aperture_tf))\n",
    "\n",
    "start = time.time()\n",
    "for i in range(100):\n",
    "    img_tf = prop(Wavefront(aperture_tf))\n",
    "end = time.time()\n",
    "print((end - start) / 100, 's')"
   ]
  },
  {
   "cell_type": "code",
   "execution_count": null,
   "metadata": {},
   "outputs": [],
   "source": [
    "plt.subplot(1,2,1)\n",
    "imshow_psf(img_np, normalization='peak', title='Numpy')\n",
    "plt.subplot(1,2,2)\n",
    "imshow_psf(img_tf, normalization='peak', title='TensorFlow')\n",
    "plt.show()"
   ]
  },
  {
   "cell_type": "code",
   "execution_count": null,
   "metadata": {},
   "outputs": [],
   "source": [
    "influence_functions = make_xinetics_influence_functions(pupil_grid, 32, 1 / 32)\n",
    "dm = DeformableMirror(influence_functions)"
   ]
  },
  {
   "cell_type": "code",
   "execution_count": null,
   "metadata": {},
   "outputs": [],
   "source": [
    "dm.random(0.03)"
   ]
  },
  {
   "cell_type": "code",
   "execution_count": null,
   "metadata": {},
   "outputs": [],
   "source": [
    "# Numpy\n",
    "img_np = prop(dm(Wavefront(aperture_np)))\n",
    "\n",
    "start = time.time()\n",
    "for i in range(100):\n",
    "    img_np = prop(dm(Wavefront(aperture_np)))\n",
    "end = time.time()\n",
    "print((end - start) / 100, 's')\n",
    "\n",
    "# TensorFlow\n",
    "img_tf = prop(dm(Wavefront(aperture_tf)))\n",
    "\n",
    "start = time.time()\n",
    "for i in range(100):\n",
    "    img_tf = prop(dm(Wavefront(aperture_tf)))\n",
    "end = time.time()\n",
    "print((end - start) / 100, 's')"
   ]
  },
  {
   "cell_type": "code",
   "execution_count": null,
   "metadata": {},
   "outputs": [],
   "source": [
    "plt.subplot(1,2,1)\n",
    "imshow_psf(img_np, normalization='peak', title='Numpy')\n",
    "plt.subplot(1,2,2)\n",
    "imshow_psf(img_tf, normalization='peak', title='TensorFlow')\n",
    "plt.show()"
   ]
  },
  {
   "cell_type": "code",
   "execution_count": null,
   "metadata": {},
   "outputs": [],
   "source": [
    "lyot_stop = circular_aperture(0.95)(pupil_grid)\n",
    "coro = VortexCoronagraph(pupil_grid, 2, lyot_stop=lyot_stop)\n",
    "\n",
    "# Numpy\n",
    "coro_img_np = prop(coro(dm(Wavefront(aperture_np))))\n",
    "\n",
    "start = time.time()\n",
    "for i in range(100):\n",
    "    coro_img_np = prop(coro(dm(Wavefront(aperture_np))))\n",
    "end = time.time()\n",
    "print((end - start) / 100, 's')\n",
    "\n",
    "# TensorFlow\n",
    "coro_img_tf = prop(coro(dm(Wavefront(aperture_tf))))\n",
    "\n",
    "start = time.time()\n",
    "for i in range(100):\n",
    "    coro_img_tf = prop(coro(dm(Wavefront(aperture_tf))))\n",
    "end = time.time()\n",
    "print((end - start) / 100, 's')"
   ]
  },
  {
   "cell_type": "code",
   "execution_count": null,
   "metadata": {},
   "outputs": [],
   "source": [
    "plt.subplot(1,2,1)\n",
    "imshow_psf(coro_img_np, normalization=img_np.power.max(), title='Numpy')\n",
    "plt.subplot(1,2,2)\n",
    "imshow_psf(coro_img_tf, normalization=img_tf.power.max(), title='TensorFlow')\n",
    "plt.show()\n",
    "\n",
    "print(coro_img_tf.power.mean() / img_tf.power.max())"
   ]
  },
  {
   "cell_type": "code",
   "execution_count": null,
   "metadata": {},
   "outputs": [],
   "source": [
    "@tf.function(autograph=False)\n",
    "def img():\n",
    "    return prop(coro(dm(Wavefront(aperture_tf)))).total_power"
   ]
  },
  {
   "cell_type": "code",
   "execution_count": null,
   "metadata": {},
   "outputs": [],
   "source": [
    "start = time.time()\n",
    "for i in range(100):\n",
    "    coro_img_tf = img()\n",
    "coro_img_tf.numpy()\n",
    "end = time.time()\n",
    "print((end - start) / 100, 's')"
   ]
  },
  {
   "cell_type": "code",
   "execution_count": null,
   "metadata": {},
   "outputs": [],
   "source": [
    "import tensorflow_probability as tfp\n",
    "\n",
    "@tf.function(autograph=False)\n",
    "def f(x):\n",
    "    dm.actuators.assign(x)\n",
    "    with tf.GradientTape() as tape:\n",
    "        power = img()\n",
    "    \n",
    "    grad = tape.gradient(power, dm.actuators)\n",
    "    grad = tf.scatter_nd(tf.reshape(grad.indices, grad.indices.shape + [1]), grad.values, grad.dense_shape)\n",
    "    \n",
    "    return power, grad\n",
    "\n",
    "start = tf.random.normal([dm.num_actuators], dtype='float64') * 0.03\n",
    "\n",
    "optim_results = tfp.optimizer.lbfgs_minimize(f, initial_position=start, num_correction_pairs=10, tolerance=1e-3)\n",
    "print(optim_results.position.numpy())\n",
    "print(optim_results.num_iterations.numpy())"
   ]
  },
  {
   "cell_type": "code",
   "execution_count": null,
   "metadata": {},
   "outputs": [],
   "source": [
    "dm.actuators.assign(optim_results.position)\n",
    "coro_img_tf = prop(coro(dm(Wavefront(aperture_tf))))\n",
    "\n",
    "imshow_psf(coro_img_tf, normalization=img_tf.power.max(), title='TensorFlow')\n",
    "plt.show()\n",
    "\n",
    "print(coro_img_tf.power.mean() / img_tf.power.max())"
   ]
  },
  {
   "cell_type": "code",
   "execution_count": null,
   "metadata": {},
   "outputs": [],
   "source": []
  },
  {
   "cell_type": "code",
   "execution_count": null,
   "metadata": {},
   "outputs": [],
   "source": []
  }
 ],
 "metadata": {
  "kernelspec": {
   "display_name": "Python 3",
   "language": "python",
   "name": "python3"
  },
  "language_info": {
   "codemirror_mode": {
    "name": "ipython",
    "version": 3
   },
   "file_extension": ".py",
   "mimetype": "text/x-python",
   "name": "python",
   "nbconvert_exporter": "python",
   "pygments_lexer": "ipython3",
   "version": "3.7.9"
  },
  "level": "beginner",
  "thumbnail_figure_index": -1
 },
 "nbformat": 4,
 "nbformat_minor": 2
}
