{
 "cells": [
  {
   "cell_type": "markdown",
   "metadata": {},
   "source": [
    "# TensorFlow integration\n",
    "\n",
    "HCIPy supports not only Numpy as its numerical backend, but also TensorFlow. This allows for using GPU acceleration as well as automatic differentiation for fast gradient evaluation. In this tutorial, we will propagate through a few optical systems with Tensorflow and perform gradient descent optimization."
   ]
  },
  {
   "cell_type": "code",
   "execution_count": null,
   "metadata": {},
   "outputs": [],
   "source": [
    "from hcipy import *\n",
    "import numpy as np\n",
    "import matplotlib.pyplot as plt\n",
    "import tensorflow as tf"
   ]
  },
  {
   "cell_type": "markdown",
   "metadata": {},
   "source": [
    "## Basics"
   ]
  },
  {
   "cell_type": "code",
   "execution_count": null,
   "metadata": {},
   "outputs": [],
   "source": [
    "pupil_grid = make_pupil_grid(512)\n",
    "focal_grid = make_focal_grid(8, 16)\n",
    "prop = FraunhoferPropagator(pupil_grid, focal_grid)"
   ]
  },
  {
   "cell_type": "code",
   "execution_count": null,
   "metadata": {},
   "outputs": [],
   "source": [
    "# Numpy\n",
    "aperture_np = circular_aperture(1)(pupil_grid)\n",
    "\n",
    "# TensorFlow\n",
    "aperture_tf = aperture_np.as_backend('tensorflow')"
   ]
  },
  {
   "cell_type": "code",
   "execution_count": null,
   "metadata": {},
   "outputs": [],
   "source": [
    "print(type(aperture_np).__name__)\n",
    "print(type(aperture_tf).__name__)\n",
    "\n",
    "print(aperture_np)\n",
    "print(aperture_tf)"
   ]
  },
  {
   "cell_type": "code",
   "execution_count": null,
   "metadata": {},
   "outputs": [],
   "source": [
    "# Numpy\n",
    "img_np = prop(Wavefront(aperture_np))\n",
    "\n",
    "# TensorFlow\n",
    "img_tf = prop(Wavefront(aperture_tf))"
   ]
  },
  {
   "cell_type": "code",
   "execution_count": null,
   "metadata": {},
   "outputs": [],
   "source": [
    "plt.subplot(1,2,1)\n",
    "imshow_psf(img_np, normalization='peak', title='Numpy')\n",
    "plt.subplot(1,2,2)\n",
    "imshow_psf(img_tf, normalization='peak', title='TensorFlow')\n",
    "plt.show()"
   ]
  },
  {
   "cell_type": "code",
   "execution_count": null,
   "metadata": {},
   "outputs": [],
   "source": [
    "influence_functions = make_xinetics_influence_functions(pupil_grid, 20, 1 / 20).to_dense()\n",
    "dm = DeformableMirror(influence_functions)"
   ]
  },
  {
   "cell_type": "code",
   "execution_count": null,
   "metadata": {},
   "outputs": [],
   "source": [
    "dm.random(0.03)\n",
    "dm.tf_actuators.assign(dm.actuators)\n",
    "\n",
    "# Numpy\n",
    "img_np = prop(dm(Wavefront(aperture_np)))\n",
    "\n",
    "# TensorFlow\n",
    "img_tf = prop(dm(Wavefront(aperture_tf)))"
   ]
  },
  {
   "cell_type": "code",
   "execution_count": null,
   "metadata": {},
   "outputs": [],
   "source": [
    "plt.subplot(1,2,1)\n",
    "imshow_psf(img_np, normalization='peak', title='Numpy')\n",
    "plt.subplot(1,2,2)\n",
    "imshow_psf(img_tf, normalization='peak', title='TensorFlow')\n",
    "plt.show()"
   ]
  },
  {
   "cell_type": "code",
   "execution_count": null,
   "metadata": {},
   "outputs": [],
   "source": [
    "lyot_stop = circular_aperture(0.95)(pupil_grid)\n",
    "coro = VortexCoronagraph(pupil_grid, 2, lyot_stop=lyot_stop)\n",
    "\n",
    "# Numpy\n",
    "coro_img_np = prop(coro(dm(Wavefront(aperture_np))))\n",
    "\n",
    "# TensorFlow\n",
    "coro_img_tf = prop(coro(dm(Wavefront(aperture_tf))))"
   ]
  },
  {
   "cell_type": "code",
   "execution_count": null,
   "metadata": {},
   "outputs": [],
   "source": [
    "plt.subplot(1,2,1)\n",
    "imshow_psf(coro_img_np, normalization=img_np.power.max(), title='Numpy')\n",
    "plt.subplot(1,2,2)\n",
    "imshow_psf(coro_img_tf, normalization=img_tf.power.max(), title='TensorFlow')\n",
    "plt.show()"
   ]
  },
  {
   "cell_type": "code",
   "execution_count": null,
   "metadata": {},
   "outputs": [],
   "source": [
    "print(type(np.abs(aperture_tf)**2))"
   ]
  },
  {
   "cell_type": "code",
   "execution_count": null,
   "metadata": {},
   "outputs": [],
   "source": []
  },
  {
   "cell_type": "code",
   "execution_count": null,
   "metadata": {},
   "outputs": [],
   "source": []
  }
 ],
 "metadata": {
  "kernelspec": {
   "display_name": "Python 3",
   "language": "python",
   "name": "python3"
  },
  "language_info": {
   "codemirror_mode": {
    "name": "ipython",
    "version": 3
   },
   "file_extension": ".py",
   "mimetype": "text/x-python",
   "name": "python",
   "nbconvert_exporter": "python",
   "pygments_lexer": "ipython3",
   "version": "3.7.9"
  },
  "level": "beginner",
  "thumbnail_figure_index": -1
 },
 "nbformat": 4,
 "nbformat_minor": 2
}
