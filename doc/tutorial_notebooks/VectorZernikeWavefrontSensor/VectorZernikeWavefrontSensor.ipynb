{
 "cells": [
  {
   "cell_type": "markdown",
   "metadata": {},
   "source": [
    "# Non-common path wavefront sensing with a vector-Zernike wavefront sensor\n",
    "\n",
    "We will introduce the classical Zernike wavefront sensor (ZWFS) and a way to reconstruct phase aberrations. Then we will introduce the vector-Zernike WFS (vZWFS) and show how this version allows for simultaneous phase and amplitude aberration sensing. \n",
    "\n",
    "This tutorial assumes that propagation through a liquid-crystal optic is known to the reader. To learn how this works, follow the \"VectorApodizingPhasePlate\" tutorial.\n",
    "\n",
    "We'll start by importing all relevant libraries and setting up our pupil and focal grids. We also import precomputed phase file for the pupil and the vAPP and the pupil the vAPP pattern was calculated for. "
   ]
  },
  {
   "cell_type": "code",
   "execution_count": null,
   "metadata": {},
   "outputs": [],
   "source": [
    "from hcipy import *\n",
    "import numpy as np\n",
    "import matplotlib as mpl\n",
    "import matplotlib.pyplot as plt\n",
    "from mpl_toolkits.axes_grid1 import make_axes_locatable\n",
    "import os\n",
    "\n",
    "# For notebook animations\n",
    "from matplotlib import animation\n",
    "from IPython.display import HTML"
   ]
  },
  {
   "cell_type": "code",
   "execution_count": null,
   "metadata": {},
   "outputs": [],
   "source": [
    "pupil_grid = make_pupil_grid(256, 1.5)\n",
    "\n",
    "aperture = make_magellan_aperture(True)\n",
    "\n",
    "telescope_pupil = aperture(pupil_grid)#circular_aperture(1)(pupil_grid)# "
   ]
  },
  {
   "cell_type": "markdown",
   "metadata": {},
   "source": [
    "The classical Zernike wavefront sensor is implemented in hcipy. A ZWFS is a focal plane optic, but in HCIPy it is implemented as a pupil plane to pupil plane propagation, similar to the vortex coronagraph. This ensures optimal calculation speed using matrix Fourier transforms (MFT). \n",
    "\n",
    "First, we create the ZWFS optical element. In principle, the only parameter you have to give is the pupil grid. Other parameters that influence the performance are:\n",
    "1. The phase step. For an optimal sensitivity, use $\\pi/2$.\n",
    "2. The phase dot diameter. For an optimal sensitivity, use 1.06 $\\lambda/D$. \n",
    "3. num_pix, sets the number of pixels the MFT uses.\n",
    "4. The pupil diameter.\n",
    "5. The reference wavelength.\n"
   ]
  },
  {
   "cell_type": "code",
   "execution_count": null,
   "metadata": {},
   "outputs": [],
   "source": [
    "ZWFS_ideal = ZernikeWavefrontSensorOptics(pupil_grid)\n",
    "ZWFS_non_ideal = ZernikeWavefrontSensorOptics(pupil_grid, phase_step=0.9 * np.pi / 2, phase_dot_diameter=1.2)"
   ]
  },
  {
   "cell_type": "code",
   "execution_count": null,
   "metadata": {},
   "outputs": [],
   "source": [
    "def plot_ZWFS(wavefront_in, wavefront_out):\n",
    "    '''Plot the input wavefront and ZWFS response.\n",
    "\n",
    "    Parameters\n",
    "    ---------\n",
    "    wavefront_in : Wavefront\n",
    "        The aberrated wavefront coming in\n",
    "    wavefront_out : Wavefront\n",
    "        The wavefront_in propagated through the ZWFS\n",
    "    '''    \n",
    "\n",
    "    # Plotting the phase pattern and the PSF\n",
    "    fig = plt.figure()\n",
    "    ax1 = fig.add_subplot(131)\n",
    "    im1 = imshow_field(wavefront_in.amplitude, cmap='gray')\n",
    "    ax1.set_title('Input amplitude')\n",
    "    \n",
    "    divider = make_axes_locatable(ax1)\n",
    "    cax = divider.append_axes('right', size='5%', pad=0.05)\n",
    "    fig.colorbar(im1, cax=cax, orientation='vertical')\n",
    "\n",
    "    ax2 = fig.add_subplot(132)\n",
    "    im2 = imshow_field(wavefront_in.phase, cmap='RdBu')\n",
    "    ax2.set_title('Input phase')\n",
    "    \n",
    "    divider = make_axes_locatable(ax2)\n",
    "    cax = divider.append_axes('right', size='5%', pad=0.05)\n",
    "    fig.colorbar(im2, cax=cax, orientation='vertical')\n",
    "    \n",
    "    ax3 = fig.add_subplot(133)\n",
    "    im3 = imshow_field(wavefront_out.intensity, cmap='gray')\n",
    "    ax3.set_title('Output intensity')\n",
    "    \n",
    "    divider = make_axes_locatable(ax3)\n",
    "    cax = divider.append_axes('right', size='5%', pad=0.05)\n",
    "    fig.colorbar(im3, cax=cax, orientation='vertical')\n",
    "    plt.show()"
   ]
  },
  {
   "cell_type": "markdown",
   "metadata": {},
   "source": [
    "Now it is time to measure the wavefront aberrations using the ZWFS. We create a random phase aberration using disk harmonic modes and propagate it through the ZWFS. "
   ]
  },
  {
   "cell_type": "code",
   "execution_count": null,
   "metadata": {},
   "outputs": [],
   "source": [
    "Nmodes = 50\n",
    "\n",
    "phase_aberrated = make_power_law_error(pupil_grid, 0.3, 1)\n",
    "\n",
    "phase_aberrated -= np.mean(phase_aberrated[telescope_pupil >= 0.5])\n",
    "    \n",
    "wf = Wavefront(telescope_pupil * np.exp(1j * phase_aberrated))\n",
    "\n",
    "wf_out = ZWFS_ideal.forward(wf)\n",
    "\n",
    "plot_ZWFS(wf, wf_out)"
   ]
  },
  {
   "cell_type": "markdown",
   "metadata": {},
   "source": [
    "From the intensity of the outcoming wavefront, it is clear that the intensity is dependent on the input phase. To show a simple reconstruction, we use the reconstruction algorithm of N'Diaye et al. 2013 [1]:\n",
    "\n",
    "\\begin{equation}\n",
    "\\phi = −1 + \\sqrt{2I_c},\n",
    "\\end{equation}\n",
    "\n",
    "where $\\phi$ is the phase and $I_c$ the measured intensity. \n",
    "\n",
    "[1] N'Diaye et al. \"Calibration of quasi-static aberrations in exoplanet direct-imaging instruments with a Zernike phase-mask sensor\", Astronomy & Astrophysics 555 (2013)"
   ]
  },
  {
   "cell_type": "code",
   "execution_count": null,
   "metadata": {},
   "outputs": [],
   "source": [
    "def plot_reconstruction_phase(phase_in, phase_out, telescope_pupil):\n",
    "    '''Plot the incoming aberrated phase pattern and the reconstructed phase pattern\n",
    "    \n",
    "    Parameters\n",
    "    ---------\n",
    "    phase_in : Field\n",
    "        The phase of the aberrated wavefront coming in\n",
    "    phase_out : Field\n",
    "        The phase of the aberrated wavefront as reconstructed by the ZWFS\n",
    "    '''    \n",
    "    \n",
    "    diff = phase_out - phase_in\n",
    "    \n",
    "    diff -= np.mean(diff[telescope_pupil >= 0.5])\n",
    "\n",
    "    # Plotting the phase pattern and the PSF\n",
    "    fig = plt.figure(figsize = (10,10))\n",
    "    ax1 = fig.add_subplot(131)\n",
    "    im1 = imshow_field(phase_in, cmap='RdBu', vmin = -0.2, vmax = 0.2, mask = telescope_pupil)\n",
    "    ax1.set_title('Input phase')\n",
    "    \n",
    "    divider = make_axes_locatable(ax1)\n",
    "    cax = divider.append_axes('right', size='5%', pad=0.05)\n",
    "    fig.colorbar(im1, cax=cax, orientation='vertical')\n",
    "\n",
    "    ax2 = fig.add_subplot(132)\n",
    "    im2 = imshow_field(phase_out, cmap='RdBu', vmin = -0.2, vmax = 0.2, mask = telescope_pupil)\n",
    "    ax2.set_title('Reconstructed phase')\n",
    "    \n",
    "    divider = make_axes_locatable(ax2)\n",
    "    cax = divider.append_axes('right', size='5%', pad=0.05)\n",
    "    fig.colorbar(im2, cax=cax, orientation='vertical')\n",
    "    \n",
    "    ax3 = fig.add_subplot(133)\n",
    "    im3 = imshow_field(diff, cmap='RdBu', vmin = -0.02, vmax = 0.02, mask = telescope_pupil)\n",
    "    ax3.set_title('Difference')\n",
    "    \n",
    "    divider = make_axes_locatable(ax3)\n",
    "    cax = divider.append_axes('right', size='5%', pad=0.05)\n",
    "    fig.colorbar(im3, cax=cax, orientation='vertical')\n",
    "    plt.show()"
   ]
  },
  {
   "cell_type": "code",
   "execution_count": null,
   "metadata": {},
   "outputs": [],
   "source": [
    "phase_est = -1 + np.sqrt(2*wf_out.intensity)\n",
    "\n",
    "plot_reconstruction_phase(phase_aberrated, phase_est ,telescope_pupil)"
   ]
  },
  {
   "cell_type": "code",
   "execution_count": null,
   "metadata": {},
   "outputs": [],
   "source": []
  },
  {
   "cell_type": "code",
   "execution_count": null,
   "metadata": {},
   "outputs": [],
   "source": [
    "focal_grid = make_focal_grid(20, 2)\n",
    "\n",
    "prop = FraunhoferPropagator(pupil_grid, focal_grid)\n",
    "\n",
    "M = Apodizer(circular_aperture(1.06)(focal_grid))\n",
    "\n",
    "S = get_strehl_from_pupil(wf.electric_field, telescope_pupil)\n",
    "\n",
    "b0 = prop.backward(M(prop.forward(Wavefront(telescope_pupil*np.exp(1j*phase_aberrated))))).electric_field.real\n",
    "\n",
    "b = np.sqrt(S) * b0\n",
    "\n",
    "phase_est = -1 + np.sqrt(np.abs(3 - 2 * b - (1 - wf_out.intensity) / b))\n",
    "\n",
    "phase_est -= np.mean(phase_est[telescope_pupil >= 0.5])\n",
    "\n",
    "plot_reconstruction_phase(phase_aberrated, phase_est,telescope_pupil )"
   ]
  },
  {
   "cell_type": "code",
   "execution_count": null,
   "metadata": {},
   "outputs": [],
   "source": []
  },
  {
   "cell_type": "code",
   "execution_count": null,
   "metadata": {},
   "outputs": [],
   "source": [
    "prop_extra = FresnelPropagator(pupil_grid, distance = 1e-4)\n",
    "\n",
    "phase_aberrated = make_power_law_error(pupil_grid, 0.3, 1)\n",
    "\n",
    "phase_aberrated -= np.mean(phase_aberrated[telescope_pupil >= 0.5])\n",
    "\n",
    "zbasis = make_zernike_basis(3,1,pupil_grid)\n",
    "\n",
    "\n",
    "for test in zbasis:\n",
    "    test*= telescope_pupil\n",
    "    phase_aberrated -= test*np.dot(phase_aberrated,test)/np.dot(test,test)\n",
    "\n",
    "# Use super-Gaussian to avoid edge effects\n",
    "p =telescope_pupil#np.exp(-(pupil_grid.as_('polar').r / 0.68)**20)\n",
    "wf_new = prop_extra(Wavefront(p*np.exp(1j * phase_aberrated)))\n",
    "\n",
    "phase_aberrated = wf_new.phase\n",
    "\n",
    "wf_new.electric_field[telescope_pupil <0.5] = 0\n",
    "\n",
    "plt.figure(figsize = (10,10))\n",
    "plt.subplot(1,2,1)\n",
    "imshow_field(wf_new.I*telescope_pupil-1,vmin = -0.02,vmax = 0.02, cmap = 'gray')\n",
    "plt.subplot(1,2,2)\n",
    "imshow_field(wf_new.phase*telescope_pupil,vmin = -0.2,vmax = 0.2, cmap = 'RdBu',mask = telescope_pupil)\n",
    "plt.show()\n"
   ]
  },
  {
   "cell_type": "code",
   "execution_count": null,
   "metadata": {},
   "outputs": [],
   "source": [
    "wf_out = ZWFS_ideal.forward(wf_new.copy())\n",
    "\n",
    "S = get_strehl_from_pupil(wf_new.electric_field, telescope_pupil)\n",
    "b = np.sqrt(S) * b0\n",
    "\n",
    "phase_est = -1 + np.sqrt(np.abs(3 - 2 * b0 - (1 - wf_out.intensity) / b0))\n",
    "\n",
    "plot_reconstruction_phase(phase_aberrated, phase_est, telescope_pupil)"
   ]
  },
  {
   "cell_type": "code",
   "execution_count": null,
   "metadata": {},
   "outputs": [],
   "source": []
  },
  {
   "cell_type": "code",
   "execution_count": null,
   "metadata": {},
   "outputs": [],
   "source": [
    "vZWFS_ideal = VectorZernikeWavefrontSensorOptics(pupil_grid,num_pix =32)\n",
    "\n",
    "vZWFS_non_ideal = VectorZernikeWavefrontSensorOptics(pupil_grid, phase_retardation = np.pi*1.05, phase_step= 0.9* np.pi / 2, phase_dot_diameter=1.2)"
   ]
  },
  {
   "cell_type": "code",
   "execution_count": null,
   "metadata": {},
   "outputs": [],
   "source": []
  },
  {
   "cell_type": "code",
   "execution_count": null,
   "metadata": {},
   "outputs": [],
   "source": [
    "def plot_reconstruction_amplitude(amplitude_in, amplitude_out, telescope_pupil):\n",
    "    '''Plot the incoming aberrated phase pattern and the reconstructed phase pattern\n",
    "    \n",
    "    Parameters\n",
    "    ---------\n",
    "    amplitude_in : Field\n",
    "        The phase of the aberrated wavefront coming in\n",
    "    amplitude_out : Field\n",
    "        The amplitude of the aberrated wavefront as reconstructed by the vZWFS\n",
    "    '''    \n",
    "\n",
    "    amplitude_in = amplitude_in-1\n",
    "    amplitude_out = amplitude_out-1\n",
    "    \n",
    "    # Plotting the phase pattern and the PSF\n",
    "    fig = plt.figure(figsize = (10,10))\n",
    "    ax1 = fig.add_subplot(131)\n",
    "    im1 = imshow_field(amplitude_in, cmap='gray', vmin = -0.05, vmax = 0.05, mask = telescope_pupil)\n",
    "    ax1.set_title('Input amplitude')\n",
    "    \n",
    "    divider = make_axes_locatable(ax1)\n",
    "    cax = divider.append_axes('right', size='5%', pad=0.05)\n",
    "    fig.colorbar(im1, cax=cax, orientation='vertical')\n",
    "\n",
    "    ax2 = fig.add_subplot(132)\n",
    "    im2 = imshow_field(amplitude_out, cmap='gray', vmin = -0.05, vmax = 0.05, mask = telescope_pupil)\n",
    "    ax2.set_title('Reconstructed amplitude')\n",
    "    \n",
    "    divider = make_axes_locatable(ax2)\n",
    "    cax = divider.append_axes('right', size='5%', pad=0.05)\n",
    "    fig.colorbar(im2, cax=cax, orientation='vertical')\n",
    "    \n",
    "    ax3 = fig.add_subplot(133)\n",
    "    im3 = imshow_field(amplitude_out - amplitude_in, cmap='gray', vmin = -0.01, vmax = 0.01, mask = telescope_pupil)\n",
    "    ax3.set_title('Difference')\n",
    "    \n",
    "    divider = make_axes_locatable(ax3)\n",
    "    cax = divider.append_axes('right', size='5%', pad=0.05)\n",
    "    fig.colorbar(im3, cax=cax, orientation='vertical')\n",
    "    plt.show()"
   ]
  },
  {
   "cell_type": "code",
   "execution_count": null,
   "metadata": {},
   "outputs": [],
   "source": []
  },
  {
   "cell_type": "code",
   "execution_count": null,
   "metadata": {},
   "outputs": [],
   "source": [
    "def analyzer(wavefront):\n",
    "    '''Plot the incoming aberrated phase pattern and the reconstructed phase pattern\n",
    "    \n",
    "    Parameters\n",
    "    ---------\n",
    "    phase_in : Field\n",
    "        The phase of the aberrated wavefront coming in\n",
    "    phase_out : Field\n",
    "        The phase of the aberrated wavefront as reconstructed by the ZWFS\n",
    "    '''\n",
    "    CPBS = CircularPolarizingBeamSplitter()\n",
    "    wf_ch1, wf_ch2 = CPBS.forward(wavefront.copy())\n",
    "    I_L = wf_ch1.I \n",
    "    I_R = wf_ch2.I\n",
    "\n",
    "\n",
    "    M = Apodizer(circular_aperture(1.06)(focal_grid))   \n",
    "    b0 = np.abs(prop.backward(M(prop.forward(Wavefront(telescope_pupil)))).electric_field)\n",
    "    S = get_strehl_from_pupil(wf_new.electric_field, telescope_pupil)\n",
    "    b = np.sqrt(S) * b0\n",
    "    \n",
    "    for i in range(4):\n",
    "        amp_est = np.sqrt(I_L + I_R + np.sqrt(4 * b**2 * (I_R + I_L) - (I_R - I_L)**2 - 4 * b**4))\n",
    "        phase_est = np.arcsin(I_L-I_R)/(2*amp_est*b)\n",
    "        wf_est = Wavefront(amp_est*telescope_pupil*np.exp(1j*phase_est))\n",
    "\n",
    "        b = prop.backward(M(prop.forward(wf_est))).electric_field.real\n",
    "\n",
    "        \n",
    "    return amp_est, phase_est\n",
    "    "
   ]
  },
  {
   "cell_type": "code",
   "execution_count": null,
   "metadata": {},
   "outputs": [],
   "source": [
    "amp_est, phase_est = analyzer(vZWFS_ideal(wf_new.copy()))\n",
    "\n",
    "amp_est=amp_est**2\n",
    "\n",
    "plot_reconstruction_phase(wf_new.phase , phase_est, telescope_pupil )\n",
    "plot_reconstruction_amplitude(wf_new.I, amp_est, telescope_pupil)\n",
    "\n"
   ]
  },
  {
   "cell_type": "code",
   "execution_count": null,
   "metadata": {},
   "outputs": [],
   "source": []
  },
  {
   "cell_type": "code",
   "execution_count": null,
   "metadata": {},
   "outputs": [],
   "source": []
  },
  {
   "cell_type": "code",
   "execution_count": null,
   "metadata": {},
   "outputs": [],
   "source": []
  },
  {
   "cell_type": "code",
   "execution_count": null,
   "metadata": {},
   "outputs": [],
   "source": []
  }
 ],
 "metadata": {
  "kernelspec": {
   "display_name": "Python 3",
   "language": "python",
   "name": "python3"
  },
  "language_info": {
   "codemirror_mode": {
    "name": "ipython",
    "version": 3
   },
   "file_extension": ".py",
   "mimetype": "text/x-python",
   "name": "python",
   "nbconvert_exporter": "python",
   "pygments_lexer": "ipython3",
   "version": "3.6.5"
  }
 },
 "nbformat": 4,
 "nbformat_minor": 2
}
