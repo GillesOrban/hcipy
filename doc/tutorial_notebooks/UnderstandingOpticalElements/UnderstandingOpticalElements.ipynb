{
 "cells": [
  {
   "cell_type": "markdown",
   "metadata": {},
   "source": [
    "# Understanding optical elements\n",
    "\n",
    "We will present the internal workings of optical elements, and show how you can create your own optical elements in HCIPy.\n",
    "\n",
    "We'll start by importing all the necessary packages."
   ]
  },
  {
   "cell_type": "code",
   "execution_count": null,
   "metadata": {},
   "outputs": [],
   "source": [
    "from hcipy import *\n",
    "import numpy as np\n",
    "import matplotlib.pyplot as plt"
   ]
  },
  {
   "cell_type": "markdown",
   "metadata": {},
   "source": [
    "An `OpticalElement` is an object that can propagate a `Wavefront` from one plane to another. This includes apodizers, deformable mirrors, focal-plane masks, coronagraphs or even complete optical systems. An optical element should in principle be able to handle any type of `Wavefront` passed to its `forward()` and `backward()` functions. This puts a large responsibility on the implementation of the optical element.\n",
    "\n",
    "Any proper implementation of an optical element should therefore implement a number of functions to help signal its intent. Here, we are going to implement a very simple `OpticalElement`: a neutral-density filter. We'll show the full implementation first, and then go in to the details for each implemented function."
   ]
  },
  {
   "cell_type": "code",
   "execution_count": null,
   "metadata": {},
   "outputs": [],
   "source": [
    "class NeutralDensityFilter(OpticalElement):\n",
    "    def __init__(self, transmittance):\n",
    "        self.transmittance = transmittance\n",
    "    \n",
    "    def forward(self, wavefront):\n",
    "        wf = wavefront.copy()\n",
    "        \n",
    "        wf.electric_field *= np.sqrt(self.transmittance)\n",
    "        \n",
    "        return wf\n",
    "\n",
    "    def backward(self, wavefront):\n",
    "        wf = Wavefront.copy()\n",
    "        \n",
    "        wf.electric_field *= np.sqrt(self.transmittance)\n",
    "        \n",
    "        return wf"
   ]
  },
  {
   "cell_type": "markdown",
   "metadata": {},
   "source": [
    "A neutral-density filter is a filter that reduces the intensity of the transmitted light independent of wavelength or spatial position. Therefore, the above implementation can handle any incoming wavefront. The initializer of the class just stores the passed transmittance. In the initializer, usually we prefer to do as much computation as possible, to aliviate the burden on the `forward()` and `backward()` functions. \n",
    "\n",
    "The `forward()` function propagates the wavefront through the filter. This function first creates a copy of the wavefront to work on, then modifies its electric field and returns it. Any implementation of `forward()` should not attempt to operate on a wavefront in-place and should always return a new `Wavefront` object.\n",
    "\n",
    "The `backward()` function might need some extra explanation. It does not implement the propagation in the opposite direction through the optical element, or even the inverse or pseudoinverse of the forward propagation, but rather the adjoint. In absense of non-linear effects, any optical element can be thought of as a linear operator on a complex Hilbert space. This Hilbert space is the space of all possible wavefronts, and an optical element acts on a wavefront to produce another wavefront in the same space. This means that we can also construct the Hermitan adjoint of this operator. The `backward()` function implements this Hermitian adjoint propagation. In some cases, ie. when energy is conserved in the optical element, the `backward()` function is the inverse of the `forward()` function, but *in general this is not the case*."
   ]
  },
  {
   "cell_type": "markdown",
   "metadata": {},
   "source": [
    "As the previous optical element had a transmittance independent of spatial position and wavelength, its implementation was quite short. Some optical elements might be dependent on the grid and wavelength of the incoming wavefront. Their implementation can often be way more complicated because of this, especially if the arguments can be a function of both. For that reason, HCIPy offers an `AgnosticOpticalElement` to simplify their implementation. Let's look at an example of one of these: the `Apodizer`, one of the simplest optical elements that uses an `AgnosticOpticalElement`. This optical element is a thin mask of which the apodization can be a function of spatial position (ie. a `Grid`) and/or wavelength. The implementation is listed below."
   ]
  },
  {
   "cell_type": "code",
   "execution_count": null,
   "metadata": {},
   "outputs": [],
   "source": [
    "class Apodizer(AgnosticOpticalElement):\n",
    "    def __init__(self, apodization):\n",
    "        self.apodization = apodization\n",
    "\n",
    "        AgnosticOpticalElement.__init__(self, grid_dependent=True, wavelength_dependent=True)\n",
    "\n",
    "    def make_instance(self, instance_data, input_grid, output_grid, wavelength):\n",
    "        instance_data.apodization = self.evaluate_parameter(self.apodization, input_grid, output_grid, wavelength)\n",
    "\n",
    "    def get_input_grid(self, output_grid, wavelength):\n",
    "        return output_grid\n",
    "\n",
    "    def get_output_grid(self, input_grid, wavelength):\n",
    "        return input_grid\n",
    "\n",
    "    @make_agnostic_forward\n",
    "    def forward(self, instance_data, wavefront):\n",
    "        wf = wavefront.copy()\n",
    "\n",
    "        wf.electric_field *= instance_data.apodization\n",
    "\n",
    "        return wf\n",
    "\n",
    "    @make_agnostic_backward\n",
    "    def backward(self, instance_data, wavefront):\n",
    "        wf = wavefront.copy()\n",
    "\n",
    "        wf.electric_field *= np.conj(instance_data.apodization)\n",
    "\n",
    "        return wf"
   ]
  },
  {
   "cell_type": "markdown",
   "metadata": {},
   "source": []
  }
 ],
 "metadata": {
  "kernelspec": {
   "display_name": "Python 3",
   "language": "python",
   "name": "python3"
  },
  "language_info": {
   "codemirror_mode": {
    "name": "ipython",
    "version": 3
   },
   "file_extension": ".py",
   "mimetype": "text/x-python",
   "name": "python",
   "nbconvert_exporter": "python",
   "pygments_lexer": "ipython3",
   "version": "3.7.4"
  },
  "level": "intermediate",
  "thumbnail_figure_index": -1
 },
 "nbformat": 4,
 "nbformat_minor": 4
}
