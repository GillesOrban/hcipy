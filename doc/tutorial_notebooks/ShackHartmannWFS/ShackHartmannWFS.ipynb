{
 "cells": [
  {
   "cell_type": "markdown",
   "metadata": {
    "id": "Ise-yigyXWB6"
   },
   "source": [
    "# Wavefront sensing with a Shack-Hartmann wavefront sensor\n",
    "\n",
    "We will simulate a closed-loop adaptive optics system, based on the the Spectro-Polarimetric High-contrast Exoplanet REsearch (SPHERE) adaptive optics (AO) system, that uses a Shack-Hartmann WFS. We will simulate calibration and on-sky operation of this simulated AO system.\n",
    "\n",
    "We first start by importing the relevant python modules."
   ]
  },
  {
   "cell_type": "code",
   "execution_count": null,
   "metadata": {
    "id": "6skJiBJcR4AR"
   },
   "outputs": [],
   "source": [
    "from hcipy import *\n",
    "from progressbar import progressbar\n",
    "\n",
    "import numpy as np\n",
    "import matplotlib.pyplot as plt\n",
    "import scipy.ndimage as ndimage\n",
    "import time\n",
    "import os\n",
    "\n",
    "%matplotlib inline"
   ]
  },
  {
   "cell_type": "markdown",
   "metadata": {
    "id": "v7Bu0lrASxOv"
   },
   "source": [
    "## Simulating the VLT pupil"
   ]
  },
  {
   "cell_type": "markdown",
   "metadata": {
    "id": "4gNCq2cTS1tH"
   },
   "source": [
    "We will model here the VLT pupil, of 8m in diameter (the primary mirror is 8.2m but the actual pupil is restricted by M2 to 8m, there is an extra margin used for choping in the infrared)."
   ]
  },
  {
   "cell_type": "code",
   "execution_count": null,
   "metadata": {
    "id": "FdnllZjbSrYO"
   },
   "outputs": [],
   "source": [
    "telescope_diameter = 8. #in m\n",
    "central_obscuration = 1.2 #in m\n",
    "central_obscuration_ratio = central_obscuration/telescope_diameter\n",
    "spider_width = 0.05 #5cm\n",
    "oversizing_factor = 16 / 15"
   ]
  },
  {
   "cell_type": "markdown",
   "metadata": {
    "id": "HSsbXsjOTVXJ"
   },
   "source": [
    "We represent the pupil by a grid of 240px. This is the sampling used by the SH WFS of SPHERE, which is an EMCCD of 240x240px (6px per subapertures, with 40 subapertures on one diameter). \n",
    "To avoid some numerical problems at the edges, we oversize the pupil grid by a factor 1.2, e.g. the grid is represented by a grid of 240 * 1.2 = 288 px."
   ]
  },
  {
   "cell_type": "code",
   "execution_count": null,
   "metadata": {
    "id": "eJOFKE7gTAkV"
   },
   "outputs": [],
   "source": [
    "num_pupil_pixels = 240 * oversizing_factor\n",
    "pupil_grid_diameter = telescope_diameter * oversizing_factor\n",
    "pupil_grid = make_pupil_grid(num_pupil_pixels, pupil_grid_diameter)"
   ]
  },
  {
   "cell_type": "code",
   "execution_count": null,
   "metadata": {
    "id": "hqmU4Uu7TWL5"
   },
   "outputs": [],
   "source": [
    "VLT_aperture_generator = make_obstructed_circular_aperture(telescope_diameter, \\\n",
    "                        central_obscuration_ratio, num_spiders=4, spider_width=spider_width)"
   ]
  },
  {
   "cell_type": "code",
   "execution_count": null,
   "metadata": {
    "id": "cE5-3Wp4T05k"
   },
   "outputs": [],
   "source": [
    "VLT_aperture = evaluate_supersampled(VLT_aperture_generator,pupil_grid, 4)"
   ]
  },
  {
   "cell_type": "markdown",
   "metadata": {
    "id": "NUm-PZD_T6au"
   },
   "source": [
    "The factor 4 indicates that each pixel will be evaluated with 4x supersampling, effectively averaging 4x4=16 subpixels for each pixel."
   ]
  },
  {
   "cell_type": "code",
   "execution_count": null,
   "metadata": {
    "colab": {
     "base_uri": "https://localhost:8080/",
     "height": 300
    },
    "id": "zIjStlnpT7CE",
    "outputId": "3fb5a57e-20fc-4a9c-a8e0-af399fa3b31d"
   },
   "outputs": [],
   "source": [
    "imshow_field(VLT_aperture)\n",
    "plt.xlabel('x position(m)')\n",
    "plt.ylabel('y position(m)')\n",
    "plt.colorbar()"
   ]
  },
  {
   "cell_type": "markdown",
   "metadata": {
    "id": "SGvNMr35UBTG"
   },
   "source": [
    "As shown above, the pupil is not exactly that of the VLT (the 4 spiders of the VLT intersect on the perimetre of M2, and not at the center), but this is not important here"
   ]
  },
  {
   "cell_type": "markdown",
   "metadata": {
    "id": "dkljyXtrUPDU"
   },
   "source": [
    "## Incoming wavefront"
   ]
  },
  {
   "cell_type": "markdown",
   "metadata": {
    "id": "sAQ1ciiLUPMT"
   },
   "source": [
    "Let's assume we work with monochromatic light at 700nm for wavefront sensing and in the K band at 2.2 micron for the scientific channel"
   ]
  },
  {
   "cell_type": "code",
   "execution_count": null,
   "metadata": {
    "id": "ucB4Kv0aT7E-"
   },
   "outputs": [],
   "source": [
    "wavelength_wfs = 0.7e-6\n",
    "wavelength_sci = 2.2e-6\n",
    "wf = Wavefront(VLT_aperture, wavelength_sci)\n",
    "wf.total_power = 1"
   ]
  },
  {
   "cell_type": "markdown",
   "metadata": {
    "id": "IyZZQfUxUbbn"
   },
   "source": [
    "Let visualize the corresponding diffraction pattern. To do so, we need to propagate the wavefront from the pupil to a focal plane. We assume here a perfect lense (see https://docs.hcipy.org/dev/api/hcipy.propagation.FraunhoferPropagator.html for details on the model).\n",
    "We also need to sample the electric field on a focal plane. We use here 4 pixels per resolution elements and set the field of view to 30 lambda/D in radius at the science wavelength."
   ]
  },
  {
   "cell_type": "code",
   "execution_count": null,
   "metadata": {
    "colab": {
     "base_uri": "https://localhost:8080/",
     "height": 306
    },
    "id": "HwuPW0aQUX17",
    "outputId": "5af053e7-188e-4b60-907a-3089d95dc7a8"
   },
   "outputs": [],
   "source": [
    "spatial_resolution = wavelength_sci / telescope_diameter\n",
    "focal_grid = make_focal_grid(q=4, num_airy=30, spatial_resolution=spatial_resolution)\n",
    "\n",
    "propagator = FraunhoferPropagator(pupil_grid, focal_grid)\n",
    "\n",
    "unaberrated_PSF = propagator.forward(wf).power\n",
    "unaberrated_PSF = unaberrated_PSF/unaberrated_PSF.max()\n",
    "\n",
    "imshow_field(np.log10(unaberrated_PSF))\n",
    "plt.colorbar()"
   ]
  },
  {
   "cell_type": "markdown",
   "metadata": {
    "id": "BCipylmjVUHz"
   },
   "source": [
    "## Wavefront sensor"
   ]
  },
  {
   "cell_type": "markdown",
   "metadata": {
    "id": "4te6POIZVYtF"
   },
   "source": [
    "The WFS is a squared 40x40 Shack Hartmann WFS. The diameter of the beam needs to be reshaped with a magnifier, otherwise the spots are not resolved by the pupil grid: the spots have a size of f * lambda = 35 micron with a f ratio of 50. If the beam is 5mm, then 1px is 20micron and we resolve the spots."
   ]
  },
  {
   "cell_type": "code",
   "execution_count": null,
   "metadata": {
    "id": "wmESDGqBUX5F"
   },
   "outputs": [],
   "source": [
    "f_number = 50\n",
    "num_lenslets = 40 # 40 lenslets along one diameter\n",
    "sh_diameter = 5e-3 # m\n",
    "\n",
    "magnification = sh_diameter / telescope_diameter\n",
    "magnifier = Magnifier(magnification)"
   ]
  },
  {
   "cell_type": "code",
   "execution_count": null,
   "metadata": {
    "id": "Uc8UMJtBVUt5"
   },
   "outputs": [],
   "source": [
    "shwfs = SquareShackHartmannWavefrontSensorOptics(pupil_grid.scaled(magnification), f_number, \\\n",
    "                                                 num_lenslets, sh_diameter)\n",
    "shwfse = ShackHartmannWavefrontSensorEstimator(shwfs.mla_grid, shwfs.micro_lens_array.mla_index)"
   ]
  },
  {
   "cell_type": "markdown",
   "metadata": {
    "id": "zPWqVuE79r0X"
   },
   "source": [
    "We assume a noiseless detector. In practice the EMCCD of SPHERE has RON of about 1 electron."
   ]
  },
  {
   "cell_type": "code",
   "execution_count": null,
   "metadata": {
    "id": "z5AWWy9SVc6Q"
   },
   "outputs": [],
   "source": [
    "camera = NoiselessDetector(focal_grid)"
   ]
  },
  {
   "cell_type": "markdown",
   "metadata": {
    "id": "kxH0NXJK92bN"
   },
   "source": [
    "Let's look at the SH image for an undisturbed wavefront"
   ]
  },
  {
   "cell_type": "code",
   "execution_count": null,
   "metadata": {
    "colab": {
     "base_uri": "https://localhost:8080/",
     "height": 282
    },
    "id": "YjoszRJsVhD5",
    "outputId": "448adee4-26b9-41e9-fd31-9ab14ac95bb6"
   },
   "outputs": [],
   "source": [
    "wf = Wavefront(VLT_aperture, wavelength_wfs)\n",
    "camera.integrate(shwfs(magnifier(wf)), 1)\n",
    "\n",
    "image_ref = camera.read_out()\n",
    "\n",
    "imshow_field(image_ref)\n",
    "plt.colorbar()"
   ]
  },
  {
   "cell_type": "markdown",
   "metadata": {
    "id": "oVI0nb9nVlwx"
   },
   "source": [
    "We select subapertures to use for wavefront sensing, based on their flux. The sub-pupils seeing the spiders receive about 75% of the flux of the unobscured sup-apertures. We want to include those, but we do not want to incldues superatures at the edge of the pupil that receive less than 50% of that flux. We therefore use a threshold at 50%.\n",
    "\n"
   ]
  },
  {
   "cell_type": "code",
   "execution_count": null,
   "metadata": {
    "id": "w7zr2MuaVlj8"
   },
   "outputs": [],
   "source": [
    "fluxes = ndimage.measurements.sum(image_ref, shwfse.mla_index, shwfse.estimation_subapertures)\n",
    "flux_limit = fluxes.max() * 0.5\n",
    "\n",
    "estimation_subapertures = np.zeros(shwfs.mla_grid.size)\n",
    "estimation_subapertures[shwfse.estimation_subapertures[fluxes > flux_limit]] = 1\n",
    "estimation_subapertures = estimation_subapertures.astype('bool')\n",
    "\n",
    "shwfse = ShackHartmannWavefrontSensorEstimator(shwfs.mla_grid, shwfs.micro_lens_array.mla_index, estimation_subapertures)"
   ]
  },
  {
   "cell_type": "code",
   "execution_count": null,
   "metadata": {
    "colab": {
     "base_uri": "https://localhost:8080/",
     "height": 34
    },
    "id": "DfTV6yyPGezg",
    "outputId": "989f52b4-55f8-4c8b-dbbe-49f10b828e57"
   },
   "outputs": [],
   "source": [
    "estimation_subapertures.shape"
   ]
  },
  {
   "cell_type": "markdown",
   "metadata": {
    "id": "q4TbhO2PVxdS"
   },
   "source": [
    "Calculate reference slopes."
   ]
  },
  {
   "cell_type": "code",
   "execution_count": null,
   "metadata": {
    "id": "VGxovBffVx6H"
   },
   "outputs": [],
   "source": [
    "slopes_ref = shwfse.estimate([image_ref])"
   ]
  },
  {
   "cell_type": "markdown",
   "metadata": {
    "id": "Qdw_sph5V3Y6"
   },
   "source": [
    "## Deformable mirror"
   ]
  },
  {
   "cell_type": "markdown",
   "metadata": {
    "id": "aHY51iOgV8_j"
   },
   "source": [
    "Let's assume we control 500 disk harmonic modes with the DM."
   ]
  },
  {
   "cell_type": "code",
   "execution_count": null,
   "metadata": {
    "id": "zWgCQlIeVyU1"
   },
   "outputs": [],
   "source": [
    "num_modes = 500\n",
    "dm_modes = make_disk_harmonic_basis(pupil_grid, num_modes, telescope_diameter, 'neumann')\n",
    "dm_modes = ModeBasis([mode / np.ptp(mode) for mode in dm_modes], pupil_grid)\n",
    "deformable_mirror = DeformableMirror(dm_modes)"
   ]
  },
  {
   "cell_type": "markdown",
   "metadata": {
    "id": "I2HloNrbYKhb"
   },
   "source": [
    "Then we need to calibrate the interaction matrix: you excite individually each mode of the DM and estimate the centroids of the spots"
   ]
  },
  {
   "cell_type": "code",
   "execution_count": null,
   "metadata": {
    "colab": {
     "base_uri": "https://localhost:8080/",
     "height": 1000
    },
    "id": "qI8kODkNVyYP",
    "outputId": "d78ec875-8620-4eb6-85e8-f43e791a18d5",
    "scrolled": true
   },
   "outputs": [],
   "source": [
    "for i in progressbar(range(10)):\n",
    "#for i in progressbar(range(num_modes)):\n",
    "    ## Extract the centers of the lenslets\n",
    "    act_levels = np.zeros(num_modes)\n",
    "    act_levels[i] = 1e-7\n",
    "    deformable_mirror.actuators = act_levels\n",
    "    dm_wf = deformable_mirror(wf)\n",
    "    sh_wf = shwfs(magnifier(dm_wf))\n",
    "    sh_img = sh_wf.power\n",
    "    relative_offsets = np.array(shwfse.estimate([sh_img]))\n",
    "    spot_centers = np.copy(relative_offsets)\n",
    "    # Returned spot centers by shwfse are relative to the center of the microlens.\n",
    "    # Add the center of the microlens back on to get absolute positions.\n",
    "    spot_centers[0,:] += shwfs.mla_grid.subset(shwfse.estimation_subapertures).x\n",
    "    spot_centers[1,:] += shwfs.mla_grid.subset(shwfse.estimation_subapertures).y\n",
    "\n",
    "    # Plot the DM shape and WFS image\n",
    "    fig = plt.figure(figsize=(30,15))\n",
    "    plt.subplot(1,2,1)\n",
    "    plt.title('Mode {0:d}: DM shape'.format(i+1))\n",
    "    im1 = imshow_field(deformable_mirror.surface, vmin=-1e-7, vmax=1e-7, cmap='bwr')\n",
    "\n",
    "    plt.subplot(1,2,2)\n",
    "    plt.title('Mode {0:d}: SH image'.format(i+1))\n",
    "    im2 = imshow_field(sh_img)\n",
    "    #plt.plot(spot_centers[0,:], spot_centers[1,:], 'r,')\n",
    "    plt.quiver(shwfs.mla_grid.subset(shwfse.estimation_subapertures).x,\n",
    "        shwfs.mla_grid.subset(shwfse.estimation_subapertures).y,\n",
    "        relative_offsets[0,:], relative_offsets[1,:],\n",
    "        color='white')\n",
    "    plt.draw()"
   ]
  },
  {
   "cell_type": "markdown",
   "metadata": {
    "id": "B7l1J59bcFwi"
   },
   "source": [
    "## Calibrating the interaction matrix"
   ]
  },
  {
   "cell_type": "markdown",
   "metadata": {
    "id": "Kn-ZZ9aLIuZX"
   },
   "source": [
    "Now we'll build the interaction matrix by exciting each mode individually and record the spot displacements "
   ]
  },
  {
   "cell_type": "code",
   "execution_count": null,
   "metadata": {
    "colab": {
     "base_uri": "https://localhost:8080/",
     "height": 34
    },
    "id": "EMpiYUZlV4HF",
    "outputId": "2dbfb08b-fba2-4b77-b55c-cbe1f2885415"
   },
   "outputs": [],
   "source": [
    "probe_amp = 0.01 * wavelength_wfs\n",
    "response_matrix = []\n",
    "\n",
    "wf = Wavefront(VLT_aperture, wavelength_wfs)\n",
    "wf.total_power = 1\n",
    "\n",
    "for ind in progressbar(range(num_modes)):\n",
    "    slope = 0\n",
    "\n",
    "    # Probe the phase response\n",
    "    for s in [1, -1]:\n",
    "        amp = np.zeros((num_modes,))\n",
    "        amp[ind] = s * probe_amp\n",
    "        deformable_mirror.actuators = amp\n",
    "\n",
    "        dm_wf = deformable_mirror.forward(wf)\n",
    "        wfs_wf = shwfs(magnifier(dm_wf))\n",
    "\n",
    "        camera.integrate(wfs_wf, 1)\n",
    "        image = camera.read_out()\n",
    "        \n",
    "        slopes = shwfse.estimate([image])\n",
    "\n",
    "        slope += s * slopes / (2 * probe_amp)\n",
    "\n",
    "    response_matrix.append(slope.ravel())\n",
    "\n",
    "response_matrix = ModeBasis(response_matrix)"
   ]
  },
  {
   "cell_type": "markdown",
   "metadata": {
    "id": "1nBfRKDmI2OG"
   },
   "source": [
    "We invert the interaction matrix using Tikhonov regularisation"
   ]
  },
  {
   "cell_type": "code",
   "execution_count": null,
   "metadata": {
    "colab": {
     "base_uri": "https://localhost:8080/",
     "height": 34
    },
    "id": "JXwOAW15cMNH",
    "outputId": "3e7f4d5d-4090-4c93-8f20-5c5826ee1e52"
   },
   "outputs": [],
   "source": [
    "rcond = 1e-3\n",
    "reconstruction_matrix = inverse_tikhonov(response_matrix.transformation_matrix, rcond=rcond)\n",
    "print(reconstruction_matrix.shape)"
   ]
  },
  {
   "cell_type": "markdown",
   "metadata": {
    "id": "hS6EcW7Zc4VW"
   },
   "source": [
    "We initialise the DM with a random position by setting the DM actuators with a random white noise of RMS 5% of the WFS wavelength"
   ]
  },
  {
   "cell_type": "code",
   "execution_count": null,
   "metadata": {
    "colab": {
     "base_uri": "https://localhost:8080/",
     "height": 282
    },
    "id": "P_Ne0x53c6Mz",
    "outputId": "898fc38e-c8ef-4ed2-9625-25175236f4e7"
   },
   "outputs": [],
   "source": [
    "deformable_mirror.random(0.05 * wavelength_wfs)\n",
    "imshow_field(deformable_mirror.phase_for(wavelength_wfs))"
   ]
  },
  {
   "cell_type": "markdown",
   "metadata": {
    "id": "9kss19mKHSLy"
   },
   "source": [
    "## Closing the loop without atmospheric disturbance"
   ]
  },
  {
   "cell_type": "code",
   "execution_count": null,
   "metadata": {
    "colab": {
     "base_uri": "https://localhost:8080/",
     "height": 34
    },
    "id": "WFR5vow2ePGv",
    "outputId": "d0fd8f69-331c-4f0a-ad49-01145e305633"
   },
   "outputs": [],
   "source": [
    "zero_magnitude_flux = 3.9e10 #3.9e10 photon/s for a mag 0 star\n",
    "stellar_magnitude = 0\n",
    "delta_t = 1e-3 # 1kHZ means 1ms per loop iteration\n",
    "\n",
    "wf_wfs = Wavefront(VLT_aperture, wavelength_wfs)\n",
    "wf_sci = Wavefront(VLT_aperture, wavelength_sci)\n",
    "\n",
    "wf_wfs.total_power = zero_magnitude_flux * 10**(-stellar_magnitude / 2.5)\n",
    "print(\"Photon flux per frame {:g}\".format(wf_wfs.total_power * delta_t))\n",
    "wf_sci.total_power = zero_magnitude_flux * 10**(-stellar_magnitude / 2.5)\n",
    "\n",
    "undisturbed_PSF_wfs = propagator.forward(wf_wfs).power\n",
    "max_undisturbed_PSF_wfs = undisturbed_PSF_wfs.max()\n",
    "undisturbed_PSF_sci = propagator.forward(wf_sci).power\n",
    "max_undisturbed_PSF_sci = undisturbed_PSF_sci.max()"
   ]
  },
  {
   "cell_type": "code",
   "execution_count": null,
   "metadata": {
    "colab": {
     "base_uri": "https://localhost:8080/",
     "height": 614
    },
    "id": "NyqxAnJ8c81E",
    "outputId": "69ca8009-568c-47cb-be76-9508c664de97"
   },
   "outputs": [],
   "source": [
    "deformable_mirror.random(0.05 * wavelength_wfs)\n",
    "\n",
    "gain = 0.3\n",
    "leakage = 0.01\n",
    "num_iterations = 10 \n",
    "\n",
    "long_exposure = 0\n",
    "\n",
    "# Set up animation\n",
    "plt.figure(figsize=(8,8))\n",
    "anim = FFMpegWriter('AO_simulation_without_turbulence.mp4', framerate=10)\n",
    "\n",
    "for timestep in progressbar(range(num_iterations)):\n",
    "\n",
    "    # Propagate through deformable mirror.\n",
    "    wf_after_dm = deformable_mirror(wf_wfs)\n",
    "\n",
    "    # Propagate through SH-WFS\n",
    "    wf_after_sh = shwfs(magnifier(wf_after_dm))\n",
    "\n",
    "    # Propagate the NIR wavefront \n",
    "    wf_sci_after_dm = propagator(deformable_mirror(wf_sci))\n",
    "\n",
    "    # Read out WFS camera\n",
    "    camera.integrate(wf_after_sh, delta_t)\n",
    "    wfs_image = camera.read_out()\n",
    "    wfs_image = large_poisson(wfs_image).astype('float')\n",
    "    \n",
    "    # Accumulate long-exposure image\n",
    "    long_exposure += wf_sci_after_dm.power / num_iterations\n",
    "\n",
    "    # Calculate slopes from WFS image\n",
    "    slopes = shwfse.estimate([wfs_image + 1e-10])\n",
    "    slopes -= slopes_ref\n",
    "    slopes = slopes.ravel()\n",
    "\n",
    "    # Perform wavefront control and set DM actuators\n",
    "    deformable_mirror.actuators = (1 - leakage) * deformable_mirror.actuators - gain * reconstruction_matrix.dot(slopes)\n",
    "\n",
    "    # Plotting\n",
    "    plt.clf()\n",
    "    plt.suptitle('Timestep %d / %d' % (timestep, num_iterations))\n",
    "\n",
    "    plt.subplot(2,2,1)\n",
    "    plt.title('DM surface [$\\\\mu$m]')\n",
    "    imshow_field(deformable_mirror.surface * 1e6, cmap='RdBu', vmin=-0.2, vmax=0.2)\n",
    "    plt.colorbar()\n",
    "\n",
    "    plt.subplot(2,2,2)\n",
    "    plt.title('WFS image [counts]')\n",
    "    imshow_field(wfs_image, cmap='inferno')\n",
    "    plt.colorbar()\n",
    "\n",
    "    plt.subplot(2,2,3)\n",
    "    plt.title('Instantaneous PSF at 2.2$\\\\mu$m [log]')\n",
    "    imshow_field(np.log10(wf_sci_after_dm.power/ wf_sci.power.max()), vmin=-3, vmax=0, cmap='inferno') #\n",
    "    plt.colorbar()\n",
    "\n",
    "    plt.subplot(2,2,4)\n",
    "    plt.title('Average PSF at 2.2$\\\\mu$m [log]')\n",
    "    imshow_field(np.log10(long_exposure / long_exposure.max()), vmin=-5, cmap='inferno')\n",
    "    plt.colorbar()\n",
    "\n",
    "    anim.add_frame()\n",
    "\n",
    "plt.close()\n",
    "anim.close()\n",
    "\n",
    "# Show created animation\n",
    "anim"
   ]
  },
  {
   "cell_type": "markdown",
   "metadata": {
    "id": "pnSq1wiGLNRH"
   },
   "source": [
    "Exercise: how would you compute the Strehl ? "
   ]
  },
  {
   "cell_type": "code",
   "execution_count": null,
   "metadata": {
    "colab": {
     "base_uri": "https://localhost:8080/",
     "height": 34
    },
    "id": "z6M9_ZteGnvk",
    "outputId": "7a34e552-d41f-4d48-ea20-f4276edc4c4a"
   },
   "outputs": [],
   "source": [
    "strehl = long_exposure[np.argmax(undisturbed_PSF_sci)] / np.max(undisturbed_PSF_sci)\n",
    "print('Strehl = {0:.1f}%'.format(strehl * 100))"
   ]
  },
  {
   "cell_type": "markdown",
   "metadata": {
    "id": "Yu9PunceBZrO"
   },
   "source": [
    "## Simulating the atmosphere"
   ]
  },
  {
   "cell_type": "code",
   "execution_count": null,
   "metadata": {
    "colab": {
     "base_uri": "https://localhost:8080/",
     "height": 34
    },
    "id": "LcjAhNopBYoL",
    "outputId": "38df5801-dffc-4e1e-e192-e13623f3094e"
   },
   "outputs": [],
   "source": [
    "seeing = 0.6 # [arcsec] @ 500nm (convention)\n",
    "fried_parameter = 500e-9 / np.deg2rad(seeing / 3600) \n",
    "print('r0   = {0:.1f}cm'.format(fried_parameter * 100))\n",
    "\n",
    "Cn_squared = Cn_squared_from_fried_parameter(fried_parameter, 500e-9)\n",
    "\n",
    "outer_scale = 40 # [meter]\n",
    "print('L0   = {0:.1f}m'.format(outer_scale))\n",
    "\n",
    "tau0 = 0.005 # [sec]\n",
    "print('tau0 = {0:.1f}ms'.format(tau0 * 1000))\n",
    "\n",
    "velocity = 0.314 * fried_parameter / tau0\n",
    "print('v    = {0:.1f}m/s'.format(velocity))"
   ]
  },
  {
   "cell_type": "code",
   "execution_count": null,
   "metadata": {
    "id": "KYrbrIqLBY0X"
   },
   "outputs": [],
   "source": [
    "layer = InfiniteAtmosphericLayer(pupil_grid, Cn_squared, outer_scale, velocity)\n",
    "\n",
    "phase_screen_grad = layer.phase_for(wavelength_wfs) # in radian\n",
    "phase_screen_microns = phase_screen_grad * (wavelength_wfs / 1e-6) / (2 * np.pi)"
   ]
  },
  {
   "cell_type": "code",
   "execution_count": null,
   "metadata": {
    "colab": {
     "base_uri": "https://localhost:8080/",
     "height": 326
    },
    "id": "AHcEHU_BCA7G",
    "outputId": "72a042a1-cc60-4ce4-83ef-f575c91d24aa"
   },
   "outputs": [],
   "source": [
    "plt.figure(figsize=(5, 4))\n",
    "anim = FFMpegWriter('atmospheric_turbulence.mp4', framerate=10)\n",
    "\n",
    "num_time_steps = 10\n",
    "for timestep in progressbar(range(num_time_steps)):\n",
    "    layer.t = timestep * delta_t\n",
    "    \n",
    "    plt.clf()\n",
    "    plt.suptitle('Timestep %d / %d' % (timestep, num_iterations))\n",
    "\n",
    "    plt.subplot(1,1,1)\n",
    "    plt.title('Turbulent wavefront [$\\\\mu$m]')\n",
    "    imshow_field(layer.phase_for(wavelength_wfs) * (wavelength_wfs / 1e-6) / (2 * np.pi), \n",
    "        vmin=-6, vmax=6, cmap='RdBu')\n",
    "    plt.colorbar()\n",
    "    \n",
    "    anim.add_frame()\n",
    "\n",
    "plt.close()\n",
    "anim.close()\n",
    "\n",
    "# Show created animation\n",
    "anim"
   ]
  },
  {
   "cell_type": "markdown",
   "metadata": {
    "id": "C54WxBaDKYn7"
   },
   "source": [
    "## Closing the loop on-sky"
   ]
  },
  {
   "cell_type": "code",
   "execution_count": null,
   "metadata": {
    "colab": {
     "base_uri": "https://localhost:8080/",
     "height": 470
    },
    "id": "U6aHEV8JgG4P",
    "outputId": "09e8d6f6-72f4-4b72-9340-c73d85210668"
   },
   "outputs": [],
   "source": [
    "deformable_mirror.flatten()\n",
    "gain = 0.3\n",
    "leakage = 0.01\n",
    "num_iterations = 1000\n",
    "burn_in_iterations = 5\n",
    "\n",
    "coro = PerfectCoronagraph(VLT_aperture, 4)\n",
    "\n",
    "long_exposure = focal_grid.zeros()\n",
    "long_exposure_coro = focal_grid.zeros()\n",
    "\n",
    "# Set up animation\n",
    "plt.figure(figsize=(8, 8))\n",
    "anim = FFMpegWriter('AO_simulation_with_turbulence.mp4', framerate=10)\n",
    "\n",
    "for timestep in progressbar(range(num_iterations)):\n",
    "    layer.t=timestep*delta_t\n",
    "\n",
    "    # Propagate through atmosphere and deformable mirror.\n",
    "    wf_wfs_after_atmos = layer(wf_wfs)\n",
    "    wf_wfs_after_dm = deformable_mirror(wf_wfs_after_atmos)\n",
    "\n",
    "    # Propagate through SH-WFS\n",
    "    wf_wfs_on_sh = shwfs(magnifier(wf_wfs_after_dm))\n",
    "\n",
    "    # Propagate the NIR wavefront \n",
    "    wf_sci_focal_plane = propagator(deformable_mirror(layer(wf_sci)))\n",
    "    wf_sci_coro = propagator(coro(deformable_mirror(layer(wf_sci))))\n",
    "\n",
    "    # Read out WFS camera\n",
    "    camera.integrate(wf_wfs_on_sh, delta_t)\n",
    "    wfs_image = camera.read_out()\n",
    "    wfs_image = large_poisson(wfs_image).astype('float')\n",
    "    \n",
    "    # Accumulate long-exposure image\n",
    "    if timestep >= burn_in_iterations:\n",
    "        long_exposure += wf_sci_focal_plane.power / (num_iterations - burn_in_iterations)\n",
    "        long_exposure_coro += wf_sci_coro.power / (num_iterations - burn_in_iterations)\n",
    "\n",
    "    # Calculate slopes from WFS image\n",
    "    slopes = shwfse.estimate([wfs_image + 1e-10])\n",
    "    slopes -= slopes_ref\n",
    "    slopes = slopes.ravel()\n",
    "\n",
    "    # Perform wavefront control and set DM actuators\n",
    "    deformable_mirror.actuators = (1 - leakage) * deformable_mirror.actuators - gain * reconstruction_matrix.dot(slopes)\n",
    "\n",
    "    # Plotting\n",
    "    if timestep % 10 == 0:\n",
    "        plt.clf()\n",
    "\n",
    "        plt.suptitle('Timestep %d / %d' % (timestep, num_iterations))\n",
    "\n",
    "        plt.subplot(2,2,1)\n",
    "        plt.title('DM surface [$\\\\mu$m]')\n",
    "        imshow_field(deformable_mirror.surface * 1e6, cmap='RdBu', vmin=-2, vmax=2, mask=VLT_aperture)\n",
    "        plt.colorbar()\n",
    "\n",
    "        plt.subplot(2,2,2)\n",
    "        plt.title('WFS image [counts]')\n",
    "        imshow_field(wfs_image, cmap='inferno')\n",
    "        plt.colorbar()\n",
    "\n",
    "        plt.subplot(2,2,3)\n",
    "        plt.title('Instantaneous PSF at 2.2$\\\\mu$m [log]')\n",
    "        imshow_field(np.log10(wf_sci_focal_plane.power/ wf_sci_focal_plane.power.max()), vmin=-3, vmax=0, cmap='inferno') #\n",
    "        plt.colorbar()\n",
    "\n",
    "        if timestep >= burn_in_iterations:\n",
    "            plt.subplot(2,2,4)\n",
    "            plt.title('Average PSF at 2.2$\\\\mu$m [log]')\n",
    "            imshow_field(np.log10(long_exposure_coro / long_exposure.max()), vmin=-5, cmap='inferno')\n",
    "            plt.colorbar()\n",
    "\n",
    "        anim.add_frame()\n",
    "\n",
    "plt.close()\n",
    "anim.close()\n",
    "\n",
    "# Show created animation\n",
    "anim"
   ]
  },
  {
   "cell_type": "code",
   "execution_count": null,
   "metadata": {
    "id": "q_Lqhgu8P671"
   },
   "outputs": [],
   "source": [
    "strehl = long_exposure[np.argmax(undisturbed_PSF_sci)] / np.max(undisturbed_PSF_sci)\n",
    "print('Strehl = {0:.1f}%'.format(strehl * 100))"
   ]
  },
  {
   "cell_type": "code",
   "execution_count": null,
   "metadata": {},
   "outputs": [],
   "source": [
    "# Cleanup created movie files\n",
    "os.remove('AO_simulation_without_turbulence.mp4')\n",
    "os.remove('atmospheric_turbulence.mp4')\n",
    "os.remove('AO_simulation_with_turbulence.mp4')"
   ]
  }
 ],
 "metadata": {
  "kernelspec": {
   "display_name": "Python 3",
   "language": "python",
   "name": "python3"
  },
  "language_info": {
   "codemirror_mode": {
    "name": "ipython",
    "version": 3
   },
   "file_extension": ".py",
   "mimetype": "text/x-python",
   "name": "python",
   "nbconvert_exporter": "python",
   "pygments_lexer": "ipython3",
   "version": "3.7.4"
  },
  "level": "intermediate",
  "thumbnail_figure_index": 1
 },
 "nbformat": 4,
 "nbformat_minor": 1
}
